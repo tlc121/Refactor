{
 "cells": [
  {
   "cell_type": "code",
   "execution_count": 1,
   "metadata": {},
   "outputs": [],
   "source": [
    "import numpy as np\n",
    "import tensorflow as tf\n",
    "import os\n",
    "import cv2\n",
    "import matplotlib.pyplot as plt\n",
    "from one_stage.yolov3 import YOLOV3\n",
    "from config_det import cfg\n",
    "from tensorflow.python.framework import graph_util\n",
    "os.environ['CUDA_VISIBLE_DEVICES'] = '5'"
   ]
  },
  {
   "cell_type": "code",
   "execution_count": 2,
   "metadata": {},
   "outputs": [
    {
     "name": "stdout",
     "output_type": "stream",
     "text": [
      "WARNING:tensorflow:From /opt/miniconda3/envs/py2/lib/python2.7/site-packages/tensorflow/python/framework/op_def_library.py:263: colocate_with (from tensorflow.python.framework.ops) is deprecated and will be removed in a future version.\n",
      "Instructions for updating:\n",
      "Colocations handled automatically by placer.\n",
      "WARNING:tensorflow:From ../core/common.py:50: batch_normalization (from tensorflow.python.layers.normalization) is deprecated and will be removed in a future version.\n",
      "Instructions for updating:\n",
      "Use keras.layers.batch_normalization instead.\n",
      "WARNING:tensorflow:From ../core/common.py:224: conv2d_transpose (from tensorflow.python.layers.convolutional) is deprecated and will be removed in a future version.\n",
      "Instructions for updating:\n",
      "Use keras.layers.conv2d_transpose instead.\n",
      "WARNING:tensorflow:From /opt/miniconda3/envs/py2/lib/python2.7/site-packages/tensorflow/python/training/saver.py:1266: checkpoint_exists (from tensorflow.python.training.checkpoint_management) is deprecated and will be removed in a future version.\n",
      "Instructions for updating:\n",
      "Use standard file APIs to check for files with this prefix.\n",
      "INFO:tensorflow:Restoring parameters from /hdd/sd5/tlc/FISCH/Model_ckpt/yolov3_detection/darknet53_test_loss=1869.7419-1\n",
      "WARNING:tensorflow:From <ipython-input-2-0490cbfb8393>:14: convert_variables_to_constants (from tensorflow.python.framework.graph_util_impl) is deprecated and will be removed in a future version.\n",
      "Instructions for updating:\n",
      "Use tf.compat.v1.graph_util.convert_variables_to_constants\n",
      "WARNING:tensorflow:From /opt/miniconda3/envs/py2/lib/python2.7/site-packages/tensorflow/python/framework/graph_util_impl.py:245: extract_sub_graph (from tensorflow.python.framework.graph_util_impl) is deprecated and will be removed in a future version.\n",
      "Instructions for updating:\n",
      "Use tf.compat.v1.graph_util.extract_sub_graph\n",
      "INFO:tensorflow:Froze 367 variables.\n",
      "INFO:tensorflow:Converted 367 variables to const ops.\n"
     ]
    }
   ],
   "source": [
    "pb_file = \"/hdd/sd5/tlc/FISCH/Model_pb/detection/test.pb\"\n",
    "ckpt_file = \"/hdd/sd5/tlc/FISCH/Model_ckpt/yolov3_detection/darknet53_test_loss=1869.7419-1\"\n",
    "output_node_names = ['pred_sbbox/op_to_store', 'pred_mbbox/op_to_store', 'pred_lbbox/op_to_store']\n",
    "\n",
    "input_data = tf.placeholder(dtype=tf.float32, shape=[6, 416, 416, 3], name='input_data')\n",
    "\n",
    "model = YOLOV3(input_data, trainable=False)\n",
    "sess  = tf.Session(config=tf.ConfigProto(allow_soft_placement=True))\n",
    "saver = tf.train.Saver()\n",
    "saver.restore(sess, ckpt_file)\n",
    "\n",
    "converted_graph_def = tf.graph_util.convert_variables_to_constants(sess,\n",
    "                            input_graph_def  = sess.graph.as_graph_def(),\n",
    "                            output_node_names = output_node_names)\n",
    "\n",
    "with tf.gfile.GFile(pb_file, \"wb\") as f:\n",
    "    f.write(converted_graph_def.SerializeToString())"
   ]
  },
  {
   "cell_type": "code",
   "execution_count": null,
   "metadata": {},
   "outputs": [],
   "source": []
  }
 ],
 "metadata": {
  "kernelspec": {
   "display_name": "Python2",
   "language": "python",
   "name": "py2"
  },
  "language_info": {
   "codemirror_mode": {
    "name": "ipython",
    "version": 2
   },
   "file_extension": ".py",
   "mimetype": "text/x-python",
   "name": "python",
   "nbconvert_exporter": "python",
   "pygments_lexer": "ipython2",
   "version": "2.7.17"
  }
 },
 "nbformat": 4,
 "nbformat_minor": 2
}
