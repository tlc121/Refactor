{
 "cells": [
  {
   "cell_type": "code",
   "execution_count": 1,
   "metadata": {
    "scrolled": true
   },
   "outputs": [
    {
     "name": "stdout",
     "output_type": "stream",
     "text": [
      "WARNING:tensorflow:From /opt/miniconda3/envs/py2/lib/python2.7/site-packages/tensorflow/python/framework/op_def_library.py:263: colocate_with (from tensorflow.python.framework.ops) is deprecated and will be removed in a future version.\n",
      "Instructions for updating:\n",
      "Colocations handled automatically by placer.\n",
      "WARNING:tensorflow:From ../core/common.py:52: batch_normalization (from tensorflow.python.layers.normalization) is deprecated and will be removed in a future version.\n",
      "Instructions for updating:\n",
      "Use keras.layers.batch_normalization instead.\n",
      "WARNING:tensorflow:From /opt/miniconda3/envs/py2/lib/python2.7/site-packages/tensorflow/python/ops/losses/losses_impl.py:667: to_float (from tensorflow.python.ops.math_ops) is deprecated and will be removed in a future version.\n",
      "Instructions for updating:\n",
      "Use tf.cast instead.\n",
      "WARNING:tensorflow:From /opt/miniconda3/envs/py2/lib/python2.7/site-packages/tensorflow/python/ops/math_ops.py:3066: to_int32 (from tensorflow.python.ops.math_ops) is deprecated and will be removed in a future version.\n",
      "Instructions for updating:\n",
      "Use tf.cast instead.\n",
      "=>Restore weights from /hdd/sd5/tlc/pretrain_model/darknet53/yolov3_test_loss=136.5372.ckpt-80\n",
      "WARNING:tensorflow:From /opt/miniconda3/envs/py2/lib/python2.7/site-packages/tensorflow/python/training/saver.py:1266: checkpoint_exists (from tensorflow.python.training.checkpoint_management) is deprecated and will be removed in a future version.\n",
      "Instructions for updating:\n",
      "Use standard file APIs to check for files with this prefix.\n",
      "INFO:tensorflow:Restoring parameters from /hdd/sd5/tlc/pretrain_model/darknet53/yolov3_test_loss=136.5372.ckpt-80\n"
     ]
    },
    {
     "name": "stderr",
     "output_type": "stream",
     "text": [
      "\r",
      "  0%|          | 0/494 [00:00<?, ?it/s]"
     ]
    },
    {
     "name": "stdout",
     "output_type": "stream",
     "text": [
      "/hdd/sd5/tlc/pretrain_model/darknet53/yolov3_test_loss=136.5372.ckpt-80does not exist!\n",
      "=>starts training from scratch ...\n"
     ]
    },
    {
     "name": "stderr",
     "output_type": "stream",
     "text": [
      "train loss: 3.23: 100%|██████████| 494/494 [01:00<00:00,  8.22it/s] \n",
      "train loss: 3.28:   0%|          | 2/494 [00:00<00:47, 10.34it/s]"
     ]
    },
    {
     "name": "stdout",
     "output_type": "stream",
     "text": [
      "Epoch:  0 Train loss: 4.10\n",
      "Test loss: 41.48 \n"
     ]
    },
    {
     "name": "stderr",
     "output_type": "stream",
     "text": [
      "train loss: 0.84: 100%|██████████| 494/494 [00:38<00:00, 12.80it/s] \n",
      "train loss: 4.47:   0%|          | 1/494 [00:00<00:56,  8.65it/s]"
     ]
    },
    {
     "name": "stdout",
     "output_type": "stream",
     "text": [
      "Epoch:  1 Train loss: 3.14\n",
      "Test loss: 21.96 \n"
     ]
    },
    {
     "name": "stderr",
     "output_type": "stream",
     "text": [
      "train loss: 13.10: 100%|██████████| 494/494 [00:38<00:00, 12.74it/s]\n",
      "train loss: 4.89:   0%|          | 1/494 [00:00<00:57,  8.58it/s]"
     ]
    },
    {
     "name": "stdout",
     "output_type": "stream",
     "text": [
      "Epoch:  2 Train loss: 3.06\n",
      "Test loss: 15.95 \n"
     ]
    },
    {
     "name": "stderr",
     "output_type": "stream",
     "text": [
      "train loss: 1.01: 100%|██████████| 494/494 [00:38<00:00, 12.82it/s] \n",
      "train loss: 0.81:   0%|          | 2/494 [00:00<00:41, 11.85it/s]"
     ]
    },
    {
     "name": "stdout",
     "output_type": "stream",
     "text": [
      "Epoch:  3 Train loss: 2.75\n",
      "Test loss: 2.44 \n"
     ]
    },
    {
     "name": "stderr",
     "output_type": "stream",
     "text": [
      "train loss: 0.78: 100%|██████████| 494/494 [00:38<00:00, 12.70it/s] \n",
      "train loss: 2.21:   0%|          | 2/494 [00:00<00:39, 12.52it/s]"
     ]
    },
    {
     "name": "stdout",
     "output_type": "stream",
     "text": [
      "Epoch:  4 Train loss: 2.58\n",
      "Test loss: 7.46 \n"
     ]
    },
    {
     "name": "stderr",
     "output_type": "stream",
     "text": [
      "train loss: 3.28: 100%|██████████| 494/494 [00:39<00:00, 12.64it/s] \n"
     ]
    },
    {
     "name": "stdout",
     "output_type": "stream",
     "text": [
      "Epoch:  5 Train loss: 2.46\n",
      "Test loss: 2.23 \n",
      "WARNING:tensorflow:From <ipython-input-1-a07d78e3aba5>:135: convert_variables_to_constants (from tensorflow.python.framework.graph_util_impl) is deprecated and will be removed in a future version.\n",
      "Instructions for updating:\n",
      "Use tf.compat.v1.graph_util.convert_variables_to_constants\n",
      "WARNING:tensorflow:From /opt/miniconda3/envs/py2/lib/python2.7/site-packages/tensorflow/python/framework/graph_util_impl.py:245: extract_sub_graph (from tensorflow.python.framework.graph_util_impl) is deprecated and will be removed in a future version.\n",
      "Instructions for updating:\n",
      "Use tf.compat.v1.graph_util.extract_sub_graph\n",
      "INFO:tensorflow:Froze 89 variables.\n",
      "INFO:tensorflow:Converted 89 variables to const ops.\n",
      "WARNING:tensorflow:From <ipython-input-1-a07d78e3aba5>:139: __init__ (from tensorflow.python.platform.gfile) is deprecated and will be removed in a future version.\n",
      "Instructions for updating:\n",
      "Use tf.gfile.GFile.\n"
     ]
    },
    {
     "name": "stderr",
     "output_type": "stream",
     "text": [
      "train loss: 4.20: 100%|██████████| 494/494 [00:45<00:00, 10.81it/s] \n",
      "train loss: 4.52:   0%|          | 1/494 [00:00<00:55,  8.83it/s]"
     ]
    },
    {
     "name": "stdout",
     "output_type": "stream",
     "text": [
      "Epoch:  6 Train loss: 2.27\n",
      "Test loss: 14.79 \n"
     ]
    },
    {
     "name": "stderr",
     "output_type": "stream",
     "text": [
      "train loss: 1.67: 100%|██████████| 494/494 [00:40<00:00, 12.18it/s]\n"
     ]
    },
    {
     "name": "stdout",
     "output_type": "stream",
     "text": [
      "Epoch:  7 Train loss: 2.06\n",
      "Test loss: 2.21 \n",
      "INFO:tensorflow:Froze 89 variables.\n",
      "INFO:tensorflow:Converted 89 variables to const ops.\n"
     ]
    },
    {
     "name": "stderr",
     "output_type": "stream",
     "text": [
      "train loss: 1.19: 100%|██████████| 494/494 [00:42<00:00, 11.67it/s]\n",
      "train loss: 1.72:   0%|          | 1/494 [00:00<00:49,  9.93it/s]"
     ]
    },
    {
     "name": "stdout",
     "output_type": "stream",
     "text": [
      "Epoch:  8 Train loss: 1.96\n",
      "Test loss: 4.97 \n"
     ]
    },
    {
     "name": "stderr",
     "output_type": "stream",
     "text": [
      "train loss: 5.68: 100%|██████████| 494/494 [00:40<00:00, 12.34it/s]\n",
      "train loss: 0.96:   0%|          | 1/494 [00:00<00:50,  9.76it/s]"
     ]
    },
    {
     "name": "stdout",
     "output_type": "stream",
     "text": [
      "Epoch:  9 Train loss: 1.75\n",
      "Test loss: 6.42 \n"
     ]
    },
    {
     "name": "stderr",
     "output_type": "stream",
     "text": [
      "train loss: 0.94: 100%|██████████| 494/494 [00:39<00:00, 12.46it/s]\n",
      "train loss: 1.56:   0%|          | 2/494 [00:00<00:42, 11.48it/s]"
     ]
    },
    {
     "name": "stdout",
     "output_type": "stream",
     "text": [
      "Epoch: 10 Train loss: 1.66\n",
      "Test loss: 2.46 \n"
     ]
    },
    {
     "name": "stderr",
     "output_type": "stream",
     "text": [
      "train loss: 0.86: 100%|██████████| 494/494 [00:38<00:00, 12.92it/s]\n",
      "train loss: 2.05:   0%|          | 2/494 [00:00<00:41, 11.77it/s]"
     ]
    },
    {
     "name": "stdout",
     "output_type": "stream",
     "text": [
      "Epoch: 11 Train loss: 1.64\n",
      "Test loss: 2.57 \n"
     ]
    },
    {
     "name": "stderr",
     "output_type": "stream",
     "text": [
      "train loss: 0.56: 100%|██████████| 494/494 [00:39<00:00, 12.53it/s]\n",
      "train loss: 2.09:   0%|          | 2/494 [00:00<00:43, 11.41it/s]"
     ]
    },
    {
     "name": "stdout",
     "output_type": "stream",
     "text": [
      "Epoch: 12 Train loss: 1.56\n",
      "Test loss: 4.01 \n"
     ]
    },
    {
     "name": "stderr",
     "output_type": "stream",
     "text": [
      "train loss: 0.69: 100%|██████████| 494/494 [00:38<00:00, 12.74it/s]\n",
      "train loss: 0.98:   0%|          | 2/494 [00:00<00:42, 11.55it/s]"
     ]
    },
    {
     "name": "stdout",
     "output_type": "stream",
     "text": [
      "Epoch: 13 Train loss: 1.45\n",
      "Test loss: 2.80 \n"
     ]
    },
    {
     "name": "stderr",
     "output_type": "stream",
     "text": [
      "train loss: 0.93: 100%|██████████| 494/494 [00:40<00:00, 12.31it/s]\n",
      "train loss: 0.57:   0%|          | 2/494 [00:00<00:39, 12.50it/s]"
     ]
    },
    {
     "name": "stdout",
     "output_type": "stream",
     "text": [
      "Epoch: 14 Train loss: 1.42\n",
      "Test loss: 3.34 \n"
     ]
    },
    {
     "name": "stderr",
     "output_type": "stream",
     "text": [
      "train loss: 0.84: 100%|██████████| 494/494 [00:37<00:00, 13.06it/s] \n",
      "train loss: 0.61:   0%|          | 1/494 [00:00<00:52,  9.40it/s]"
     ]
    },
    {
     "name": "stdout",
     "output_type": "stream",
     "text": [
      "Epoch: 15 Train loss: 1.39\n",
      "Test loss: 2.60 \n"
     ]
    },
    {
     "name": "stderr",
     "output_type": "stream",
     "text": [
      "train loss: 0.94: 100%|██████████| 494/494 [00:38<00:00, 12.92it/s]\n",
      "train loss: 3.19:   0%|          | 2/494 [00:00<00:34, 14.29it/s]"
     ]
    },
    {
     "name": "stdout",
     "output_type": "stream",
     "text": [
      "Epoch: 16 Train loss: 1.37\n",
      "Test loss: 2.29 \n"
     ]
    },
    {
     "name": "stderr",
     "output_type": "stream",
     "text": [
      "train loss: 0.45: 100%|██████████| 494/494 [00:37<00:00, 13.11it/s]\n",
      "train loss: 2.52:   0%|          | 2/494 [00:00<00:38, 12.66it/s]"
     ]
    },
    {
     "name": "stdout",
     "output_type": "stream",
     "text": [
      "Epoch: 17 Train loss: 1.35\n",
      "Test loss: 2.93 \n"
     ]
    },
    {
     "name": "stderr",
     "output_type": "stream",
     "text": [
      "train loss: 4.58: 100%|██████████| 494/494 [00:37<00:00, 13.30it/s]\n",
      "train loss: 0.76:   0%|          | 1/494 [00:00<00:50,  9.74it/s]"
     ]
    },
    {
     "name": "stdout",
     "output_type": "stream",
     "text": [
      "Epoch: 18 Train loss: 1.26\n",
      "Test loss: 2.32 \n"
     ]
    },
    {
     "name": "stderr",
     "output_type": "stream",
     "text": [
      "train loss: 3.47: 100%|██████████| 494/494 [00:37<00:00, 13.14it/s]\n"
     ]
    },
    {
     "name": "stdout",
     "output_type": "stream",
     "text": [
      "Epoch: 19 Train loss: 1.32\n",
      "Test loss: 2.11 \n",
      "INFO:tensorflow:Froze 89 variables.\n",
      "INFO:tensorflow:Converted 89 variables to const ops.\n"
     ]
    },
    {
     "name": "stderr",
     "output_type": "stream",
     "text": [
      "train loss: 0.42: 100%|██████████| 494/494 [00:37<00:00, 13.30it/s]\n",
      "train loss: 0.97:   0%|          | 2/494 [00:00<00:43, 11.43it/s]"
     ]
    },
    {
     "name": "stdout",
     "output_type": "stream",
     "text": [
      "Epoch: 20 Train loss: 1.29\n",
      "Test loss: 2.40 \n"
     ]
    },
    {
     "name": "stderr",
     "output_type": "stream",
     "text": [
      "train loss: 1.34: 100%|██████████| 494/494 [00:38<00:00, 12.87it/s]\n"
     ]
    },
    {
     "name": "stdout",
     "output_type": "stream",
     "text": [
      "Epoch: 21 Train loss: 1.26\n",
      "Test loss: 1.89 \n",
      "INFO:tensorflow:Froze 89 variables.\n",
      "INFO:tensorflow:Converted 89 variables to const ops.\n"
     ]
    },
    {
     "name": "stderr",
     "output_type": "stream",
     "text": [
      "train loss: 1.24: 100%|██████████| 494/494 [00:38<00:00, 12.88it/s]\n",
      "train loss: 0.39:   0%|          | 2/494 [00:00<00:36, 13.48it/s]"
     ]
    },
    {
     "name": "stdout",
     "output_type": "stream",
     "text": [
      "Epoch: 22 Train loss: 1.24\n",
      "Test loss: 7.21 \n"
     ]
    },
    {
     "name": "stderr",
     "output_type": "stream",
     "text": [
      "train loss: 1.28: 100%|██████████| 494/494 [00:38<00:00, 12.85it/s]\n",
      "train loss: 0.96:   0%|          | 2/494 [00:00<00:36, 13.40it/s]"
     ]
    },
    {
     "name": "stdout",
     "output_type": "stream",
     "text": [
      "Epoch: 23 Train loss: 1.17\n",
      "Test loss: 2.23 \n"
     ]
    },
    {
     "name": "stderr",
     "output_type": "stream",
     "text": [
      "train loss: 0.33: 100%|██████████| 494/494 [00:38<00:00, 12.92it/s]\n",
      "train loss: 0.77:   0%|          | 2/494 [00:00<00:40, 12.23it/s]"
     ]
    },
    {
     "name": "stdout",
     "output_type": "stream",
     "text": [
      "Epoch: 24 Train loss: 1.23\n",
      "Test loss: 2.55 \n"
     ]
    },
    {
     "name": "stderr",
     "output_type": "stream",
     "text": [
      "train loss: 2.02: 100%|██████████| 494/494 [00:38<00:00, 12.92it/s]\n",
      "train loss: 0.68:   0%|          | 2/494 [00:00<00:38, 12.92it/s]"
     ]
    },
    {
     "name": "stdout",
     "output_type": "stream",
     "text": [
      "Epoch: 25 Train loss: 1.21\n",
      "Test loss: 2.27 \n"
     ]
    },
    {
     "name": "stderr",
     "output_type": "stream",
     "text": [
      "train loss: 2.51: 100%|██████████| 494/494 [00:38<00:00, 12.85it/s]\n",
      "train loss: 0.76:   0%|          | 2/494 [00:00<00:36, 13.44it/s]"
     ]
    },
    {
     "name": "stdout",
     "output_type": "stream",
     "text": [
      "Epoch: 26 Train loss: 1.10\n",
      "Test loss: 2.43 \n"
     ]
    },
    {
     "name": "stderr",
     "output_type": "stream",
     "text": [
      "train loss: 0.86: 100%|██████████| 494/494 [00:37<00:00, 13.02it/s]\n",
      "train loss: 0.55:   0%|          | 2/494 [00:00<00:35, 13.83it/s]"
     ]
    },
    {
     "name": "stdout",
     "output_type": "stream",
     "text": [
      "Epoch: 27 Train loss: 1.10\n",
      "Test loss: 2.61 \n"
     ]
    },
    {
     "name": "stderr",
     "output_type": "stream",
     "text": [
      "train loss: 1.98: 100%|██████████| 494/494 [00:37<00:00, 13.21it/s]\n",
      "train loss: 0.91:   0%|          | 2/494 [00:00<00:36, 13.61it/s]"
     ]
    },
    {
     "name": "stdout",
     "output_type": "stream",
     "text": [
      "Epoch: 28 Train loss: 1.07\n",
      "Test loss: 1.89 \n"
     ]
    },
    {
     "name": "stderr",
     "output_type": "stream",
     "text": [
      "train loss: 0.89: 100%|██████████| 494/494 [00:37<00:00, 13.06it/s]\n",
      "train loss: 0.27:   0%|          | 2/494 [00:00<00:38, 12.80it/s]"
     ]
    },
    {
     "name": "stdout",
     "output_type": "stream",
     "text": [
      "Epoch: 29 Train loss: 1.05\n",
      "Test loss: 2.08 \n"
     ]
    },
    {
     "name": "stderr",
     "output_type": "stream",
     "text": [
      "train loss: 0.78: 100%|██████████| 494/494 [00:37<00:00, 13.30it/s]\n",
      "train loss: 0.68:   0%|          | 2/494 [00:00<00:41, 11.95it/s]"
     ]
    },
    {
     "name": "stdout",
     "output_type": "stream",
     "text": [
      "Epoch: 30 Train loss: 1.07\n",
      "Test loss: 2.98 \n"
     ]
    },
    {
     "name": "stderr",
     "output_type": "stream",
     "text": [
      "train loss: 0.99: 100%|██████████| 494/494 [00:37<00:00, 13.27it/s]\n"
     ]
    },
    {
     "name": "stdout",
     "output_type": "stream",
     "text": [
      "Epoch: 31 Train loss: 0.99\n",
      "Test loss: 1.76 \n",
      "INFO:tensorflow:Froze 89 variables.\n",
      "INFO:tensorflow:Converted 89 variables to const ops.\n"
     ]
    },
    {
     "name": "stderr",
     "output_type": "stream",
     "text": [
      "train loss: 1.40: 100%|██████████| 494/494 [00:38<00:00, 12.97it/s]\n",
      "train loss: 0.70:   0%|          | 2/494 [00:00<00:35, 13.83it/s]"
     ]
    },
    {
     "name": "stdout",
     "output_type": "stream",
     "text": [
      "Epoch: 32 Train loss: 1.00\n",
      "Test loss: 5.20 \n"
     ]
    },
    {
     "name": "stderr",
     "output_type": "stream",
     "text": [
      "train loss: 0.82: 100%|██████████| 494/494 [00:38<00:00, 12.80it/s]\n",
      "train loss: 1.07:   0%|          | 2/494 [00:00<00:37, 13.00it/s]"
     ]
    },
    {
     "name": "stdout",
     "output_type": "stream",
     "text": [
      "Epoch: 33 Train loss: 0.99\n",
      "Test loss: 2.18 \n"
     ]
    },
    {
     "name": "stderr",
     "output_type": "stream",
     "text": [
      "train loss: 0.48: 100%|██████████| 494/494 [00:38<00:00, 12.94it/s]\n",
      "train loss: 1.30:   0%|          | 2/494 [00:00<00:36, 13.36it/s]"
     ]
    },
    {
     "name": "stdout",
     "output_type": "stream",
     "text": [
      "Epoch: 34 Train loss: 0.94\n",
      "Test loss: 2.45 \n"
     ]
    },
    {
     "name": "stderr",
     "output_type": "stream",
     "text": [
      "train loss: 0.44: 100%|██████████| 494/494 [00:37<00:00, 13.16it/s]\n",
      "train loss: 0.47:   0%|          | 2/494 [00:00<00:38, 12.63it/s]"
     ]
    },
    {
     "name": "stdout",
     "output_type": "stream",
     "text": [
      "Epoch: 35 Train loss: 0.94\n",
      "Test loss: 1.83 \n"
     ]
    },
    {
     "name": "stderr",
     "output_type": "stream",
     "text": [
      "train loss: 0.73: 100%|██████████| 494/494 [00:38<00:00, 12.92it/s]\n",
      "train loss: 0.65:   0%|          | 1/494 [00:00<00:51,  9.52it/s]"
     ]
    },
    {
     "name": "stdout",
     "output_type": "stream",
     "text": [
      "Epoch: 36 Train loss: 0.88\n",
      "Test loss: 1.98 \n"
     ]
    },
    {
     "name": "stderr",
     "output_type": "stream",
     "text": [
      "train loss: 0.30: 100%|██████████| 494/494 [00:38<00:00, 12.75it/s]\n",
      "train loss: 0.61:   0%|          | 2/494 [00:00<00:40, 12.21it/s]"
     ]
    },
    {
     "name": "stdout",
     "output_type": "stream",
     "text": [
      "Epoch: 37 Train loss: 0.93\n",
      "Test loss: 1.93 \n"
     ]
    },
    {
     "name": "stderr",
     "output_type": "stream",
     "text": [
      "train loss: 1.53: 100%|██████████| 494/494 [00:38<00:00, 12.67it/s]\n",
      "train loss: 1.61:   0%|          | 2/494 [00:00<00:46, 10.49it/s]"
     ]
    },
    {
     "name": "stdout",
     "output_type": "stream",
     "text": [
      "Epoch: 38 Train loss: 0.85\n",
      "Test loss: 2.41 \n"
     ]
    },
    {
     "name": "stderr",
     "output_type": "stream",
     "text": [
      "train loss: 0.67: 100%|██████████| 494/494 [00:38<00:00, 12.90it/s]\n",
      "train loss: 1.16:   0%|          | 2/494 [00:00<00:40, 12.29it/s]"
     ]
    },
    {
     "name": "stdout",
     "output_type": "stream",
     "text": [
      "Epoch: 39 Train loss: 0.87\n",
      "Test loss: 2.38 \n"
     ]
    },
    {
     "name": "stderr",
     "output_type": "stream",
     "text": [
      "train loss: 1.08: 100%|██████████| 494/494 [00:37<00:00, 13.07it/s]\n",
      "train loss: 0.69:   0%|          | 1/494 [00:00<00:56,  8.72it/s]"
     ]
    },
    {
     "name": "stdout",
     "output_type": "stream",
     "text": [
      "Epoch: 40 Train loss: 0.89\n",
      "Test loss: 2.23 \n"
     ]
    },
    {
     "name": "stderr",
     "output_type": "stream",
     "text": [
      "train loss: 0.33: 100%|██████████| 494/494 [00:38<00:00, 12.87it/s]\n",
      "train loss: 1.02:   0%|          | 2/494 [00:00<00:41, 11.76it/s]"
     ]
    },
    {
     "name": "stdout",
     "output_type": "stream",
     "text": [
      "Epoch: 41 Train loss: 0.82\n",
      "Test loss: 9.52 \n"
     ]
    },
    {
     "name": "stderr",
     "output_type": "stream",
     "text": [
      "train loss: 0.71: 100%|██████████| 494/494 [00:38<00:00, 12.92it/s]\n",
      "train loss: 1.72:   0%|          | 1/494 [00:00<00:56,  8.75it/s]"
     ]
    },
    {
     "name": "stdout",
     "output_type": "stream",
     "text": [
      "Epoch: 42 Train loss: 0.79\n",
      "Test loss: 4.68 \n"
     ]
    },
    {
     "name": "stderr",
     "output_type": "stream",
     "text": [
      "train loss: 0.52: 100%|██████████| 494/494 [00:38<00:00, 12.94it/s]\n"
     ]
    },
    {
     "name": "stdout",
     "output_type": "stream",
     "text": [
      "Epoch: 43 Train loss: 0.85\n",
      "Test loss: 1.75 \n",
      "INFO:tensorflow:Froze 89 variables.\n",
      "INFO:tensorflow:Converted 89 variables to const ops.\n"
     ]
    },
    {
     "name": "stderr",
     "output_type": "stream",
     "text": [
      "train loss: 0.70: 100%|██████████| 494/494 [00:38<00:00, 12.79it/s]\n",
      "train loss: 1.23:   0%|          | 2/494 [00:00<00:39, 12.36it/s]"
     ]
    },
    {
     "name": "stdout",
     "output_type": "stream",
     "text": [
      "Epoch: 44 Train loss: 0.78\n",
      "Test loss: 2.01 \n"
     ]
    },
    {
     "name": "stderr",
     "output_type": "stream",
     "text": [
      "train loss: 1.26: 100%|██████████| 494/494 [00:38<00:00, 12.89it/s]\n",
      "train loss: 0.47:   0%|          | 2/494 [00:00<00:40, 12.25it/s]"
     ]
    },
    {
     "name": "stdout",
     "output_type": "stream",
     "text": [
      "Epoch: 45 Train loss: 0.77\n",
      "Test loss: 3.32 \n"
     ]
    },
    {
     "name": "stderr",
     "output_type": "stream",
     "text": [
      "train loss: 0.44: 100%|██████████| 494/494 [00:38<00:00, 12.89it/s]\n",
      "train loss: 0.59:   0%|          | 2/494 [00:00<00:39, 12.34it/s]"
     ]
    },
    {
     "name": "stdout",
     "output_type": "stream",
     "text": [
      "Epoch: 46 Train loss: 0.74\n",
      "Test loss: 2.95 \n"
     ]
    },
    {
     "name": "stderr",
     "output_type": "stream",
     "text": [
      "train loss: 0.64: 100%|██████████| 494/494 [00:38<00:00, 12.94it/s]\n",
      "train loss: 1.28:   0%|          | 2/494 [00:00<00:43, 11.19it/s]"
     ]
    },
    {
     "name": "stdout",
     "output_type": "stream",
     "text": [
      "Epoch: 47 Train loss: 0.74\n",
      "Test loss: 2.14 \n"
     ]
    },
    {
     "name": "stderr",
     "output_type": "stream",
     "text": [
      "train loss: 0.64: 100%|██████████| 494/494 [00:38<00:00, 12.73it/s]\n",
      "train loss: 0.36:   0%|          | 2/494 [00:00<00:43, 11.19it/s]"
     ]
    },
    {
     "name": "stdout",
     "output_type": "stream",
     "text": [
      "Epoch: 48 Train loss: 0.70\n",
      "Test loss: 5.73 \n"
     ]
    },
    {
     "name": "stderr",
     "output_type": "stream",
     "text": [
      "train loss: 0.70: 100%|██████████| 494/494 [00:38<00:00, 12.75it/s]\n",
      "train loss: 0.19:   0%|          | 1/494 [00:00<00:58,  8.39it/s]"
     ]
    },
    {
     "name": "stdout",
     "output_type": "stream",
     "text": [
      "Epoch: 49 Train loss: 0.72\n",
      "Test loss: 1.92 \n"
     ]
    },
    {
     "name": "stderr",
     "output_type": "stream",
     "text": [
      "train loss: 1.02: 100%|██████████| 494/494 [00:38<00:00, 12.74it/s]\n",
      "train loss: 0.75:   0%|          | 2/494 [00:00<00:41, 11.89it/s]"
     ]
    },
    {
     "name": "stdout",
     "output_type": "stream",
     "text": [
      "Epoch: 50 Train loss: 0.70\n",
      "Test loss: 2.16 \n"
     ]
    },
    {
     "name": "stderr",
     "output_type": "stream",
     "text": [
      "train loss: 1.08: 100%|██████████| 494/494 [00:38<00:00, 12.79it/s]\n",
      "train loss: 0.23:   0%|          | 2/494 [00:00<00:42, 11.54it/s]"
     ]
    },
    {
     "name": "stdout",
     "output_type": "stream",
     "text": [
      "Epoch: 51 Train loss: 0.71\n",
      "Test loss: 2.58 \n"
     ]
    },
    {
     "name": "stderr",
     "output_type": "stream",
     "text": [
      "train loss: 0.52: 100%|██████████| 494/494 [00:40<00:00, 12.24it/s]\n",
      "train loss: 1.08:   0%|          | 2/494 [00:00<00:43, 11.23it/s]"
     ]
    },
    {
     "name": "stdout",
     "output_type": "stream",
     "text": [
      "Epoch: 52 Train loss: 0.66\n",
      "Test loss: 3.35 \n"
     ]
    },
    {
     "name": "stderr",
     "output_type": "stream",
     "text": [
      "train loss: 1.23: 100%|██████████| 494/494 [00:40<00:00, 12.35it/s]\n",
      "train loss: 1.15:   0%|          | 2/494 [00:00<00:46, 10.63it/s]"
     ]
    },
    {
     "name": "stdout",
     "output_type": "stream",
     "text": [
      "Epoch: 53 Train loss: 0.65\n",
      "Test loss: 2.75 \n"
     ]
    },
    {
     "name": "stderr",
     "output_type": "stream",
     "text": [
      "train loss: 0.39: 100%|██████████| 494/494 [00:38<00:00, 12.73it/s]\n",
      "train loss: 0.78:   0%|          | 2/494 [00:00<00:40, 12.01it/s]"
     ]
    },
    {
     "name": "stdout",
     "output_type": "stream",
     "text": [
      "Epoch: 54 Train loss: 0.65\n",
      "Test loss: 1.85 \n"
     ]
    },
    {
     "name": "stderr",
     "output_type": "stream",
     "text": [
      "train loss: 0.42: 100%|██████████| 494/494 [00:39<00:00, 12.56it/s]\n",
      "train loss: 0.22:   0%|          | 2/494 [00:00<00:42, 11.51it/s]"
     ]
    },
    {
     "name": "stdout",
     "output_type": "stream",
     "text": [
      "Epoch: 55 Train loss: 0.64\n",
      "Test loss: 2.02 \n"
     ]
    },
    {
     "name": "stderr",
     "output_type": "stream",
     "text": [
      "train loss: 0.49: 100%|██████████| 494/494 [00:39<00:00, 12.37it/s]\n",
      "train loss: 0.71:   0%|          | 2/494 [00:00<00:39, 12.54it/s]"
     ]
    },
    {
     "name": "stdout",
     "output_type": "stream",
     "text": [
      "Epoch: 56 Train loss: 0.61\n",
      "Test loss: 2.00 \n"
     ]
    },
    {
     "name": "stderr",
     "output_type": "stream",
     "text": [
      "train loss: 1.61: 100%|██████████| 494/494 [00:38<00:00, 12.72it/s]\n",
      "train loss: 0.36:   0%|          | 2/494 [00:00<00:46, 10.55it/s]"
     ]
    },
    {
     "name": "stdout",
     "output_type": "stream",
     "text": [
      "Epoch: 57 Train loss: 0.61\n",
      "Test loss: 2.99 \n"
     ]
    },
    {
     "name": "stderr",
     "output_type": "stream",
     "text": [
      "train loss: 0.27: 100%|██████████| 494/494 [00:38<00:00, 12.79it/s]\n",
      "train loss: 0.47:   0%|          | 2/494 [00:00<00:38, 12.73it/s]"
     ]
    },
    {
     "name": "stdout",
     "output_type": "stream",
     "text": [
      "Epoch: 58 Train loss: 0.59\n",
      "Test loss: 2.41 \n"
     ]
    },
    {
     "name": "stderr",
     "output_type": "stream",
     "text": [
      "train loss: 0.30: 100%|██████████| 494/494 [00:39<00:00, 12.57it/s]\n",
      "train loss: 0.48:   0%|          | 2/494 [00:00<00:40, 12.22it/s]"
     ]
    },
    {
     "name": "stdout",
     "output_type": "stream",
     "text": [
      "Epoch: 59 Train loss: 0.57\n",
      "Test loss: 2.18 \n"
     ]
    },
    {
     "name": "stderr",
     "output_type": "stream",
     "text": [
      "train loss: 0.57: 100%|██████████| 494/494 [00:38<00:00, 12.69it/s]\n",
      "train loss: 0.36:   0%|          | 2/494 [00:00<00:40, 12.08it/s]"
     ]
    },
    {
     "name": "stdout",
     "output_type": "stream",
     "text": [
      "Epoch: 60 Train loss: 0.57\n",
      "Test loss: 1.86 \n"
     ]
    },
    {
     "name": "stderr",
     "output_type": "stream",
     "text": [
      "train loss: 0.52: 100%|██████████| 494/494 [00:39<00:00, 12.52it/s]\n",
      "train loss: 1.51:   0%|          | 1/494 [00:00<00:53,  9.28it/s]"
     ]
    },
    {
     "name": "stdout",
     "output_type": "stream",
     "text": [
      "Epoch: 61 Train loss: 0.56\n",
      "Test loss: 1.75 \n"
     ]
    },
    {
     "name": "stderr",
     "output_type": "stream",
     "text": [
      "train loss: 0.67: 100%|██████████| 494/494 [00:38<00:00, 12.74it/s]\n",
      "train loss: 0.44:   0%|          | 2/494 [00:00<00:42, 11.55it/s]"
     ]
    },
    {
     "name": "stdout",
     "output_type": "stream",
     "text": [
      "Epoch: 62 Train loss: 0.58\n",
      "Test loss: 2.20 \n"
     ]
    },
    {
     "name": "stderr",
     "output_type": "stream",
     "text": [
      "train loss: 1.09: 100%|██████████| 494/494 [00:38<00:00, 12.85it/s]\n",
      "train loss: 0.37:   0%|          | 2/494 [00:00<00:39, 12.53it/s]"
     ]
    },
    {
     "name": "stdout",
     "output_type": "stream",
     "text": [
      "Epoch: 63 Train loss: 0.57\n",
      "Test loss: 4.51 \n"
     ]
    },
    {
     "name": "stderr",
     "output_type": "stream",
     "text": [
      "train loss: 0.82: 100%|██████████| 494/494 [00:39<00:00, 12.62it/s]\n",
      "train loss: 0.55:   0%|          | 2/494 [00:00<00:40, 12.18it/s]"
     ]
    },
    {
     "name": "stdout",
     "output_type": "stream",
     "text": [
      "Epoch: 64 Train loss: 0.59\n",
      "Test loss: 2.13 \n"
     ]
    },
    {
     "name": "stderr",
     "output_type": "stream",
     "text": [
      "train loss: 0.39: 100%|██████████| 494/494 [00:38<00:00, 12.72it/s]\n",
      "train loss: 0.37:   0%|          | 1/494 [00:00<00:54,  9.11it/s]"
     ]
    },
    {
     "name": "stdout",
     "output_type": "stream",
     "text": [
      "Epoch: 65 Train loss: 0.54\n",
      "Test loss: 1.97 \n"
     ]
    },
    {
     "name": "stderr",
     "output_type": "stream",
     "text": [
      "train loss: 0.66: 100%|██████████| 494/494 [00:38<00:00, 12.70it/s]\n",
      "train loss: 0.12:   0%|          | 2/494 [00:00<00:37, 13.07it/s]"
     ]
    },
    {
     "name": "stdout",
     "output_type": "stream",
     "text": [
      "Epoch: 66 Train loss: 0.52\n",
      "Test loss: 3.09 \n"
     ]
    },
    {
     "name": "stderr",
     "output_type": "stream",
     "text": [
      "train loss: 0.31: 100%|██████████| 494/494 [00:38<00:00, 12.80it/s]\n",
      "train loss: 0.45:   0%|          | 1/494 [00:00<00:52,  9.39it/s]"
     ]
    },
    {
     "name": "stdout",
     "output_type": "stream",
     "text": [
      "Epoch: 67 Train loss: 0.50\n",
      "Test loss: 1.84 \n"
     ]
    },
    {
     "name": "stderr",
     "output_type": "stream",
     "text": [
      "train loss: 0.64: 100%|██████████| 494/494 [00:39<00:00, 12.64it/s]\n",
      "train loss: 0.17:   0%|          | 2/494 [00:00<00:42, 11.58it/s]"
     ]
    },
    {
     "name": "stdout",
     "output_type": "stream",
     "text": [
      "Epoch: 68 Train loss: 0.51\n",
      "Test loss: 2.86 \n"
     ]
    },
    {
     "name": "stderr",
     "output_type": "stream",
     "text": [
      "train loss: 0.60: 100%|██████████| 494/494 [00:38<00:00, 12.79it/s]\n",
      "train loss: 0.56:   0%|          | 2/494 [00:00<00:40, 12.06it/s]"
     ]
    },
    {
     "name": "stdout",
     "output_type": "stream",
     "text": [
      "Epoch: 69 Train loss: 0.51\n",
      "Test loss: 2.11 \n"
     ]
    },
    {
     "name": "stderr",
     "output_type": "stream",
     "text": [
      "train loss: 0.93: 100%|██████████| 494/494 [00:38<00:00, 12.70it/s]\n",
      "train loss: 0.27:   0%|          | 2/494 [00:00<00:43, 11.32it/s]"
     ]
    },
    {
     "name": "stdout",
     "output_type": "stream",
     "text": [
      "Epoch: 70 Train loss: 0.52\n",
      "Test loss: 2.00 \n"
     ]
    },
    {
     "name": "stderr",
     "output_type": "stream",
     "text": [
      "train loss: 0.48: 100%|██████████| 494/494 [00:38<00:00, 12.94it/s]\n",
      "train loss: 0.85:   0%|          | 2/494 [00:00<00:44, 11.12it/s]"
     ]
    },
    {
     "name": "stdout",
     "output_type": "stream",
     "text": [
      "Epoch: 71 Train loss: 0.49\n",
      "Test loss: 2.25 \n"
     ]
    },
    {
     "name": "stderr",
     "output_type": "stream",
     "text": [
      "train loss: 0.32: 100%|██████████| 494/494 [00:39<00:00, 12.65it/s]\n",
      "train loss: 0.35:   0%|          | 2/494 [00:00<00:42, 11.69it/s]"
     ]
    },
    {
     "name": "stdout",
     "output_type": "stream",
     "text": [
      "Epoch: 72 Train loss: 0.49\n",
      "Test loss: 1.88 \n"
     ]
    },
    {
     "name": "stderr",
     "output_type": "stream",
     "text": [
      "train loss: 0.37: 100%|██████████| 494/494 [00:38<00:00, 12.90it/s]\n",
      "train loss: 0.66:   0%|          | 2/494 [00:00<00:42, 11.52it/s]"
     ]
    },
    {
     "name": "stdout",
     "output_type": "stream",
     "text": [
      "Epoch: 73 Train loss: 0.49\n",
      "Test loss: 2.01 \n"
     ]
    },
    {
     "name": "stderr",
     "output_type": "stream",
     "text": [
      "train loss: 0.27: 100%|██████████| 494/494 [00:38<00:00, 12.79it/s]\n",
      "train loss: 0.48:   0%|          | 1/494 [00:00<00:52,  9.34it/s]"
     ]
    },
    {
     "name": "stdout",
     "output_type": "stream",
     "text": [
      "Epoch: 74 Train loss: 0.49\n",
      "Test loss: 1.86 \n"
     ]
    },
    {
     "name": "stderr",
     "output_type": "stream",
     "text": [
      "train loss: 0.33: 100%|██████████| 494/494 [00:38<00:00, 12.82it/s]\n",
      "train loss: 0.45:   0%|          | 2/494 [00:00<00:40, 12.08it/s]"
     ]
    },
    {
     "name": "stdout",
     "output_type": "stream",
     "text": [
      "Epoch: 75 Train loss: 0.46\n",
      "Test loss: 2.42 \n"
     ]
    },
    {
     "name": "stderr",
     "output_type": "stream",
     "text": [
      "train loss: 0.32: 100%|██████████| 494/494 [00:37<00:00, 13.02it/s]\n",
      "train loss: 0.79:   0%|          | 1/494 [00:00<00:50,  9.69it/s]"
     ]
    },
    {
     "name": "stdout",
     "output_type": "stream",
     "text": [
      "Epoch: 76 Train loss: 0.45\n",
      "Test loss: 2.78 \n"
     ]
    },
    {
     "name": "stderr",
     "output_type": "stream",
     "text": [
      "train loss: 0.79: 100%|██████████| 494/494 [00:38<00:00, 12.97it/s]\n",
      "train loss: 0.49:   0%|          | 2/494 [00:00<00:40, 12.18it/s]"
     ]
    },
    {
     "name": "stdout",
     "output_type": "stream",
     "text": [
      "Epoch: 77 Train loss: 0.46\n",
      "Test loss: 1.97 \n"
     ]
    },
    {
     "name": "stderr",
     "output_type": "stream",
     "text": [
      "train loss: 0.70: 100%|██████████| 494/494 [00:38<00:00, 12.83it/s]\n",
      "train loss: 0.53:   0%|          | 2/494 [00:00<00:37, 13.21it/s]"
     ]
    },
    {
     "name": "stdout",
     "output_type": "stream",
     "text": [
      "Epoch: 78 Train loss: 0.46\n",
      "Test loss: 2.08 \n"
     ]
    },
    {
     "name": "stderr",
     "output_type": "stream",
     "text": [
      "train loss: 0.80: 100%|██████████| 494/494 [00:37<00:00, 13.04it/s]\n",
      "train loss: 0.61:   0%|          | 2/494 [00:00<00:37, 13.12it/s]"
     ]
    },
    {
     "name": "stdout",
     "output_type": "stream",
     "text": [
      "Epoch: 79 Train loss: 0.47\n",
      "Test loss: 1.80 \n"
     ]
    },
    {
     "name": "stderr",
     "output_type": "stream",
     "text": [
      "train loss: 0.44: 100%|██████████| 494/494 [00:37<00:00, 13.11it/s]\n",
      "train loss: 0.21:   0%|          | 1/494 [00:00<00:49,  9.97it/s]"
     ]
    },
    {
     "name": "stdout",
     "output_type": "stream",
     "text": [
      "Epoch: 80 Train loss: 0.43\n",
      "Test loss: 1.86 \n"
     ]
    },
    {
     "name": "stderr",
     "output_type": "stream",
     "text": [
      "train loss: 0.62: 100%|██████████| 494/494 [00:38<00:00, 12.84it/s]\n",
      "train loss: 0.81:   0%|          | 2/494 [00:00<00:35, 13.92it/s]"
     ]
    },
    {
     "name": "stdout",
     "output_type": "stream",
     "text": [
      "Epoch: 81 Train loss: 0.46\n",
      "Test loss: 2.74 \n"
     ]
    },
    {
     "name": "stderr",
     "output_type": "stream",
     "text": [
      "train loss: 0.22: 100%|██████████| 494/494 [00:38<00:00, 12.95it/s]\n",
      "train loss: 0.90:   0%|          | 2/494 [00:00<00:39, 12.37it/s]"
     ]
    },
    {
     "name": "stdout",
     "output_type": "stream",
     "text": [
      "Epoch: 82 Train loss: 0.42\n",
      "Test loss: 2.10 \n"
     ]
    },
    {
     "name": "stderr",
     "output_type": "stream",
     "text": [
      "train loss: 0.39: 100%|██████████| 494/494 [00:37<00:00, 13.01it/s]\n",
      "train loss: 0.29:   0%|          | 2/494 [00:00<00:38, 12.93it/s]"
     ]
    },
    {
     "name": "stdout",
     "output_type": "stream",
     "text": [
      "Epoch: 83 Train loss: 0.46\n",
      "Test loss: 1.90 \n"
     ]
    },
    {
     "name": "stderr",
     "output_type": "stream",
     "text": [
      "train loss: 0.48: 100%|██████████| 494/494 [00:37<00:00, 13.01it/s]\n"
     ]
    },
    {
     "name": "stdout",
     "output_type": "stream",
     "text": [
      "Epoch: 84 Train loss: 0.41\n",
      "Test loss: 1.69 \n",
      "INFO:tensorflow:Froze 89 variables.\n",
      "INFO:tensorflow:Converted 89 variables to const ops.\n"
     ]
    },
    {
     "name": "stderr",
     "output_type": "stream",
     "text": [
      "train loss: 0.48: 100%|██████████| 494/494 [00:37<00:00, 13.06it/s]\n",
      "train loss: 0.33:   0%|          | 2/494 [00:00<00:39, 12.34it/s]"
     ]
    },
    {
     "name": "stdout",
     "output_type": "stream",
     "text": [
      "Epoch: 85 Train loss: 0.42\n",
      "Test loss: 1.98 \n"
     ]
    },
    {
     "name": "stderr",
     "output_type": "stream",
     "text": [
      "train loss: 0.50: 100%|██████████| 494/494 [00:37<00:00, 13.09it/s]\n",
      "train loss: 0.60:   0%|          | 2/494 [00:00<00:39, 12.49it/s]"
     ]
    },
    {
     "name": "stdout",
     "output_type": "stream",
     "text": [
      "Epoch: 86 Train loss: 0.43\n",
      "Test loss: 1.95 \n"
     ]
    },
    {
     "name": "stderr",
     "output_type": "stream",
     "text": [
      "train loss: 0.19: 100%|██████████| 494/494 [00:38<00:00, 12.87it/s]\n",
      "train loss: 0.40:   0%|          | 2/494 [00:00<00:44, 11.00it/s]"
     ]
    },
    {
     "name": "stdout",
     "output_type": "stream",
     "text": [
      "Epoch: 87 Train loss: 0.40\n",
      "Test loss: 3.19 \n"
     ]
    },
    {
     "name": "stderr",
     "output_type": "stream",
     "text": [
      "train loss: 0.33: 100%|██████████| 494/494 [00:38<00:00, 12.94it/s]\n",
      "train loss: 0.22:   0%|          | 2/494 [00:00<00:37, 13.15it/s]"
     ]
    },
    {
     "name": "stdout",
     "output_type": "stream",
     "text": [
      "Epoch: 88 Train loss: 0.39\n",
      "Test loss: 1.85 \n"
     ]
    },
    {
     "name": "stderr",
     "output_type": "stream",
     "text": [
      "train loss: 0.56: 100%|██████████| 494/494 [00:39<00:00, 12.65it/s]\n",
      "train loss: 0.74:   0%|          | 2/494 [00:00<00:37, 13.20it/s]"
     ]
    },
    {
     "name": "stdout",
     "output_type": "stream",
     "text": [
      "Epoch: 89 Train loss: 0.40\n",
      "Test loss: 1.98 \n"
     ]
    },
    {
     "name": "stderr",
     "output_type": "stream",
     "text": [
      "train loss: 0.40: 100%|██████████| 494/494 [00:39<00:00, 12.64it/s]\n",
      "train loss: 0.24:   0%|          | 2/494 [00:00<00:38, 12.82it/s]"
     ]
    },
    {
     "name": "stdout",
     "output_type": "stream",
     "text": [
      "Epoch: 90 Train loss: 0.42\n",
      "Test loss: 1.98 \n"
     ]
    },
    {
     "name": "stderr",
     "output_type": "stream",
     "text": [
      "train loss: 0.44: 100%|██████████| 494/494 [00:38<00:00, 12.92it/s]\n",
      "train loss: 0.21:   0%|          | 2/494 [00:00<00:35, 13.79it/s]"
     ]
    },
    {
     "name": "stdout",
     "output_type": "stream",
     "text": [
      "Epoch: 91 Train loss: 0.41\n",
      "Test loss: 1.89 \n"
     ]
    },
    {
     "name": "stderr",
     "output_type": "stream",
     "text": [
      "train loss: 0.15: 100%|██████████| 494/494 [00:38<00:00, 12.67it/s]\n",
      "train loss: 0.47:   0%|          | 2/494 [00:00<00:35, 13.83it/s]"
     ]
    },
    {
     "name": "stdout",
     "output_type": "stream",
     "text": [
      "Epoch: 92 Train loss: 0.37\n",
      "Test loss: 1.88 \n"
     ]
    },
    {
     "name": "stderr",
     "output_type": "stream",
     "text": [
      "train loss: 0.21: 100%|██████████| 494/494 [00:39<00:00, 12.62it/s]\n",
      "train loss: 0.24:   0%|          | 2/494 [00:00<00:38, 12.81it/s]"
     ]
    },
    {
     "name": "stdout",
     "output_type": "stream",
     "text": [
      "Epoch: 93 Train loss: 0.40\n",
      "Test loss: 1.83 \n"
     ]
    },
    {
     "name": "stderr",
     "output_type": "stream",
     "text": [
      "train loss: 0.41: 100%|██████████| 494/494 [00:38<00:00, 12.75it/s]\n",
      "train loss: 0.20:   0%|          | 2/494 [00:00<00:43, 11.19it/s]"
     ]
    },
    {
     "name": "stdout",
     "output_type": "stream",
     "text": [
      "Epoch: 94 Train loss: 0.39\n",
      "Test loss: 2.37 \n"
     ]
    },
    {
     "name": "stderr",
     "output_type": "stream",
     "text": [
      "train loss: 0.31: 100%|██████████| 494/494 [00:38<00:00, 12.82it/s]\n",
      "train loss: 0.80:   0%|          | 2/494 [00:00<00:41, 11.87it/s]"
     ]
    },
    {
     "name": "stdout",
     "output_type": "stream",
     "text": [
      "Epoch: 95 Train loss: 0.39\n",
      "Test loss: 2.41 \n"
     ]
    },
    {
     "name": "stderr",
     "output_type": "stream",
     "text": [
      "train loss: 0.30:  19%|█▊        | 92/494 [00:07<00:28, 14.05it/s]"
     ]
    },
    {
     "ename": "KeyboardInterrupt",
     "evalue": "",
     "output_type": "error",
     "traceback": [
      "\u001b[0;31m\u001b[0m",
      "\u001b[0;31mKeyboardInterrupt\u001b[0mTraceback (most recent call last)",
      "\u001b[0;32m<ipython-input-1-a07d78e3aba5>\u001b[0m in \u001b[0;36m<module>\u001b[0;34m()\u001b[0m\n\u001b[1;32m    158\u001b[0m \u001b[0;34m\u001b[0m\u001b[0m\n\u001b[1;32m    159\u001b[0m \u001b[0;32mif\u001b[0m \u001b[0m__name__\u001b[0m \u001b[0;34m==\u001b[0m \u001b[0;34m'__main__'\u001b[0m\u001b[0;34m:\u001b[0m\u001b[0;34m\u001b[0m\u001b[0m\n\u001b[0;32m--> 160\u001b[0;31m     \u001b[0mRegression\u001b[0m\u001b[0;34m(\u001b[0m\u001b[0;34m)\u001b[0m\u001b[0;34m.\u001b[0m\u001b[0mmain\u001b[0m\u001b[0;34m(\u001b[0m\u001b[0;34m)\u001b[0m\u001b[0;34m\u001b[0m\u001b[0m\n\u001b[0m\u001b[1;32m    161\u001b[0m \u001b[0;34m\u001b[0m\u001b[0m\n\u001b[1;32m    162\u001b[0m \u001b[0;34m\u001b[0m\u001b[0m\n",
      "\u001b[0;32m<ipython-input-1-a07d78e3aba5>\u001b[0m in \u001b[0;36mmain\u001b[0;34m(self)\u001b[0m\n\u001b[1;32m    155\u001b[0m     \u001b[0;32mdef\u001b[0m \u001b[0mmain\u001b[0m\u001b[0;34m(\u001b[0m\u001b[0mself\u001b[0m\u001b[0;34m)\u001b[0m\u001b[0;34m:\u001b[0m\u001b[0;34m\u001b[0m\u001b[0m\n\u001b[1;32m    156\u001b[0m         \u001b[0mself\u001b[0m\u001b[0;34m.\u001b[0m\u001b[0msess\u001b[0m\u001b[0;34m.\u001b[0m\u001b[0mrun\u001b[0m\u001b[0;34m(\u001b[0m\u001b[0mtf\u001b[0m\u001b[0;34m.\u001b[0m\u001b[0mglobal_variables_initializer\u001b[0m\u001b[0;34m(\u001b[0m\u001b[0;34m)\u001b[0m\u001b[0;34m)\u001b[0m\u001b[0;34m\u001b[0m\u001b[0m\n\u001b[0;32m--> 157\u001b[0;31m         \u001b[0mself\u001b[0m\u001b[0;34m.\u001b[0m\u001b[0mtrain\u001b[0m\u001b[0;34m(\u001b[0m\u001b[0;34m)\u001b[0m\u001b[0;34m\u001b[0m\u001b[0m\n\u001b[0m\u001b[1;32m    158\u001b[0m \u001b[0;34m\u001b[0m\u001b[0m\n\u001b[1;32m    159\u001b[0m \u001b[0;32mif\u001b[0m \u001b[0m__name__\u001b[0m \u001b[0;34m==\u001b[0m \u001b[0;34m'__main__'\u001b[0m\u001b[0;34m:\u001b[0m\u001b[0;34m\u001b[0m\u001b[0m\n",
      "\u001b[0;32m<ipython-input-1-a07d78e3aba5>\u001b[0m in \u001b[0;36mtrain\u001b[0;34m(self)\u001b[0m\n\u001b[1;32m    100\u001b[0m             \u001b[0mtrain_epoch_loss\u001b[0m\u001b[0;34m,\u001b[0m \u001b[0mtest_epoch_loss\u001b[0m \u001b[0;34m=\u001b[0m \u001b[0;34m[\u001b[0m\u001b[0;34m]\u001b[0m\u001b[0;34m,\u001b[0m \u001b[0;34m[\u001b[0m\u001b[0;34m]\u001b[0m\u001b[0;34m\u001b[0m\u001b[0m\n\u001b[1;32m    101\u001b[0m             \u001b[0;31m#train_epoch_acc, test_epoch_acc = [], []\u001b[0m\u001b[0;34m\u001b[0m\u001b[0;34m\u001b[0m\u001b[0m\n\u001b[0;32m--> 102\u001b[0;31m             \u001b[0;32mfor\u001b[0m \u001b[0mtrain_data\u001b[0m \u001b[0;32min\u001b[0m \u001b[0mpabr\u001b[0m\u001b[0;34m:\u001b[0m\u001b[0;34m\u001b[0m\u001b[0m\n\u001b[0m\u001b[1;32m    103\u001b[0m                 _, train_step_loss = self.sess.run([self.train_op, self.loss], feed_dict={self.input_data: train_data[0],\n\u001b[1;32m    104\u001b[0m                                                          \u001b[0mself\u001b[0m\u001b[0;34m.\u001b[0m\u001b[0minput_labels\u001b[0m\u001b[0;34m:\u001b[0m \u001b[0mtrain_data\u001b[0m\u001b[0;34m[\u001b[0m\u001b[0;36m1\u001b[0m\u001b[0;34m]\u001b[0m\u001b[0;34m,\u001b[0m\u001b[0;34m\u001b[0m\u001b[0m\n",
      "\u001b[0;32m/opt/miniconda3/envs/py2/lib/python2.7/site-packages/tqdm/std.pyc\u001b[0m in \u001b[0;36m__iter__\u001b[0;34m(self)\u001b[0m\n\u001b[1;32m   1079\u001b[0m             \"\"\"), fp_write=getattr(self.fp, 'write', sys.stderr.write))\n\u001b[1;32m   1080\u001b[0m \u001b[0;34m\u001b[0m\u001b[0m\n\u001b[0;32m-> 1081\u001b[0;31m         \u001b[0;32mfor\u001b[0m \u001b[0mobj\u001b[0m \u001b[0;32min\u001b[0m \u001b[0miterable\u001b[0m\u001b[0;34m:\u001b[0m\u001b[0;34m\u001b[0m\u001b[0m\n\u001b[0m\u001b[1;32m   1082\u001b[0m             \u001b[0;32myield\u001b[0m \u001b[0mobj\u001b[0m\u001b[0;34m\u001b[0m\u001b[0m\n\u001b[1;32m   1083\u001b[0m             \u001b[0;31m# Update and possibly print the progressbar.\u001b[0m\u001b[0;34m\u001b[0m\u001b[0;34m\u001b[0m\u001b[0m\n",
      "\u001b[0;32m/home/tanglc/1Refactor/regression/dataset.pyc\u001b[0m in \u001b[0;36mnext\u001b[0;34m(self)\u001b[0m\n\u001b[1;32m     80\u001b[0m             \u001b[0mbatch_scale\u001b[0m \u001b[0;34m=\u001b[0m \u001b[0mnp\u001b[0m\u001b[0;34m.\u001b[0m\u001b[0mzeros\u001b[0m\u001b[0;34m(\u001b[0m\u001b[0;34m(\u001b[0m\u001b[0mself\u001b[0m\u001b[0;34m.\u001b[0m\u001b[0mbatchsize\u001b[0m\u001b[0;34m,\u001b[0m \u001b[0;36m1\u001b[0m\u001b[0;34m)\u001b[0m\u001b[0;34m,\u001b[0m \u001b[0mdtype\u001b[0m\u001b[0;34m=\u001b[0m\u001b[0mnp\u001b[0m\u001b[0;34m.\u001b[0m\u001b[0mfloat32\u001b[0m\u001b[0;34m)\u001b[0m\u001b[0;34m\u001b[0m\u001b[0m\n\u001b[1;32m     81\u001b[0m             \u001b[0;32mfor\u001b[0m \u001b[0mi\u001b[0m \u001b[0;32min\u001b[0m \u001b[0mrange\u001b[0m\u001b[0;34m(\u001b[0m\u001b[0mself\u001b[0m\u001b[0;34m.\u001b[0m\u001b[0mbatchsize\u001b[0m\u001b[0;34m*\u001b[0m\u001b[0mself\u001b[0m\u001b[0;34m.\u001b[0m\u001b[0mbatch_count\u001b[0m\u001b[0;34m,\u001b[0m \u001b[0mself\u001b[0m\u001b[0;34m.\u001b[0m\u001b[0mbatchsize\u001b[0m\u001b[0;34m*\u001b[0m\u001b[0;34m(\u001b[0m\u001b[0mself\u001b[0m\u001b[0;34m.\u001b[0m\u001b[0mbatch_count\u001b[0m\u001b[0;34m+\u001b[0m\u001b[0;36m1\u001b[0m\u001b[0;34m)\u001b[0m\u001b[0;34m)\u001b[0m\u001b[0;34m:\u001b[0m\u001b[0;34m\u001b[0m\u001b[0m\n\u001b[0;32m---> 82\u001b[0;31m                 \u001b[0mself\u001b[0m\u001b[0;34m.\u001b[0m\u001b[0mimage_batch\u001b[0m\u001b[0;34m.\u001b[0m\u001b[0mappend\u001b[0m\u001b[0;34m(\u001b[0m\u001b[0mself\u001b[0m\u001b[0;34m.\u001b[0m\u001b[0mparse_annotations\u001b[0m\u001b[0;34m(\u001b[0m\u001b[0mself\u001b[0m\u001b[0;34m.\u001b[0m\u001b[0mannotations\u001b[0m\u001b[0;34m,\u001b[0m \u001b[0mself\u001b[0m\u001b[0;34m.\u001b[0m\u001b[0mdataaug\u001b[0m\u001b[0;34m,\u001b[0m \u001b[0mi\u001b[0m\u001b[0;34m)\u001b[0m\u001b[0;34m)\u001b[0m\u001b[0;34m\u001b[0m\u001b[0m\n\u001b[0m\u001b[1;32m     83\u001b[0m             \u001b[0;32mfor\u001b[0m \u001b[0mnum\u001b[0m\u001b[0;34m,\u001b[0m \u001b[0mimg\u001b[0m \u001b[0;32min\u001b[0m \u001b[0menumerate\u001b[0m\u001b[0;34m(\u001b[0m\u001b[0mself\u001b[0m\u001b[0;34m.\u001b[0m\u001b[0mimage_batch\u001b[0m\u001b[0;34m)\u001b[0m\u001b[0;34m:\u001b[0m\u001b[0;34m\u001b[0m\u001b[0m\n\u001b[1;32m     84\u001b[0m                 \u001b[0mimage\u001b[0m\u001b[0;34m,\u001b[0m \u001b[0mlabel\u001b[0m\u001b[0;34m,\u001b[0m \u001b[0mscale\u001b[0m \u001b[0;34m=\u001b[0m \u001b[0mimg\u001b[0m\u001b[0;34m[\u001b[0m\u001b[0;36m0\u001b[0m\u001b[0;34m]\u001b[0m\u001b[0;34m,\u001b[0m \u001b[0mimg\u001b[0m\u001b[0;34m[\u001b[0m\u001b[0;36m1\u001b[0m\u001b[0;34m]\u001b[0m\u001b[0;34m,\u001b[0m \u001b[0mimg\u001b[0m\u001b[0;34m[\u001b[0m\u001b[0;36m2\u001b[0m\u001b[0;34m]\u001b[0m\u001b[0;34m\u001b[0m\u001b[0m\n",
      "\u001b[0;32m/home/tanglc/1Refactor/regression/dataset.pyc\u001b[0m in \u001b[0;36mparse_annotations\u001b[0;34m(self, annotations, dataaug, idx)\u001b[0m\n\u001b[1;32m     65\u001b[0m         \u001b[0;32mexcept\u001b[0m \u001b[0mException\u001b[0m \u001b[0;32mas\u001b[0m \u001b[0me\u001b[0m\u001b[0;34m:\u001b[0m\u001b[0;34m\u001b[0m\u001b[0m\n\u001b[1;32m     66\u001b[0m             \u001b[0;32mprint\u001b[0m \u001b[0;34m(\u001b[0m\u001b[0me\u001b[0m\u001b[0;34m,\u001b[0m \u001b[0mimg_path\u001b[0m\u001b[0;34m)\u001b[0m\u001b[0;34m\u001b[0m\u001b[0m\n\u001b[0;32m---> 67\u001b[0;31m         \u001b[0mimage\u001b[0m \u001b[0;34m=\u001b[0m \u001b[0mself\u001b[0m\u001b[0;34m.\u001b[0m\u001b[0mim_norm\u001b[0m\u001b[0;34m(\u001b[0m\u001b[0mimage\u001b[0m\u001b[0;34m)\u001b[0m\u001b[0;34m\u001b[0m\u001b[0m\n\u001b[0m\u001b[1;32m     68\u001b[0m         \u001b[0;32mreturn\u001b[0m \u001b[0mimage\u001b[0m\u001b[0;34m,\u001b[0m \u001b[0mlabel\u001b[0m\u001b[0;34m,\u001b[0m \u001b[0mscale\u001b[0m\u001b[0;34m\u001b[0m\u001b[0m\n\u001b[1;32m     69\u001b[0m \u001b[0;34m\u001b[0m\u001b[0m\n",
      "\u001b[0;32m/home/tanglc/1Refactor/regression/dataset.pyc\u001b[0m in \u001b[0;36mim_norm\u001b[0;34m(self, image)\u001b[0m\n\u001b[1;32m    190\u001b[0m \u001b[0;34m\u001b[0m\u001b[0m\n\u001b[1;32m    191\u001b[0m     \u001b[0;32mdef\u001b[0m \u001b[0mim_norm\u001b[0m\u001b[0;34m(\u001b[0m\u001b[0mself\u001b[0m\u001b[0;34m,\u001b[0m \u001b[0mimage\u001b[0m\u001b[0;34m)\u001b[0m\u001b[0;34m:\u001b[0m\u001b[0;34m\u001b[0m\u001b[0m\n\u001b[0;32m--> 192\u001b[0;31m         \u001b[0mimg\u001b[0m \u001b[0;34m=\u001b[0m \u001b[0mimage\u001b[0m\u001b[0;34m/\u001b[0m\u001b[0;36m255.\u001b[0m\u001b[0;34m\u001b[0m\u001b[0m\n\u001b[0m\u001b[1;32m    193\u001b[0m         \u001b[0;32mreturn\u001b[0m \u001b[0mimg\u001b[0m\u001b[0;34m\u001b[0m\u001b[0m\n\u001b[1;32m    194\u001b[0m \u001b[0;34m\u001b[0m\u001b[0m\n",
      "\u001b[0;31mKeyboardInterrupt\u001b[0m: "
     ]
    }
   ],
   "source": [
    "import tensorflow as tf\n",
    "import numpy as np\n",
    "import os\n",
    "from tqdm import tqdm\n",
    "os.environ['CUDA_VISIBLE_DEVICES'] = '5'\n",
    "from config_reg import cfg\n",
    "from dataset import Dataset\n",
    "from factory_reg import backbone\n",
    "from random import randint\n",
    "from tensorflow.python.framework import graph_util\n",
    "import pandas as pd\n",
    "\n",
    "class Regression(object):\n",
    "    def __init__(self):\n",
    "        self.Batch_Size = cfg.TRAIN.BATCHSIZE\n",
    "        self.learn_rate_init = cfg.TRAIN.LEARN_RATE_INIT\n",
    "        self.num_classes = cfg.TRAIN.REG_NUM\n",
    "        self.trainset = Dataset(self.num_classes,'train')\n",
    "        self.testset = Dataset(self.num_classes,'test')\n",
    "        self.network = cfg.TRAIN.NETWORK\n",
    "        self.train_txt = cfg.TRAIN.ANNO_PATH\n",
    "        self.sess = tf.Session()\n",
    "        self.model_type = cfg.TRAIN.NETWORK\n",
    "        self.input_size = cfg.TRAIN.INPUTSIZE\n",
    "        self.interval = cfg.TRAIN.SAVE\n",
    "        #self.excel_path = './result.xlsx'\n",
    "        #self.df = pd.DataFrame(columns=['Source', 'Quantity', 'Model_name', 'Epoch', 'Loss', 'Acc'])\n",
    "        self.initial_weights = cfg.TRAIN.INITIAL_WEIGHT\n",
    "        self.pretrain_mode = cfg.TRAIN.PRETRAIN_MODE\n",
    "        self.epoch = cfg.TRAIN.EPOCH\n",
    "        self.pretrain_model = cfg.TRAIN.BACKBONE_PRETRAIN\n",
    "        self.moving_ave_decay = cfg.TRAIN.MOMENTUM\n",
    "        self.save_path_ckpt = cfg.TRAIN.SAVE_PATH_CKPT\n",
    "        self.save_path_pb = cfg.TRAIN.SAVE_PATH_PB\n",
    "        self.quantity = len(open(self.train_txt, 'r').readlines())\n",
    "        self.source = ''\n",
    "        #self.get_src()\n",
    "        self.keep_prob = tf.placeholder(dtype=tf.float32, name='dropout')\n",
    "        #self.writer = pd.ExcelWriter(self.excel_path)\n",
    "        self.moving_ave_decay = 0.995\n",
    "        \n",
    "       \n",
    "        self.input_data = tf.placeholder(shape = [None, self.input_size, self.input_size, 3], dtype=tf.float32, name='input')\n",
    "        self.input_labels = tf.placeholder(shape = [None, self.num_classes], dtype=tf.float32, name='label')\n",
    "        self.input_scale = tf.placeholder(shape = [None, 1], dtype=tf.float32, name='scale')\n",
    "        self.trainable = tf.placeholder(dtype=tf.bool, name='trainable')\n",
    "\n",
    "        \n",
    "        self.model = backbone(model=self.network, input_data=self.input_data, trainable=self.trainable, classes=self.num_classes, keep_prob=1.0, scale=self.input_scale)\n",
    "        self.loss = self.model.compute_loss(labels=self.input_labels)\n",
    "        self.net_var = tf.trainable_variables()\n",
    "        self.varaibles_to_restore = [var for var in self.net_var if 'backbone' in var.name]\n",
    "        \n",
    "            \n",
    "        #moving_ave = tf.train.ExponentialMovingAverage(self.moving_ave_decay).apply(tf.trainable_variables())\n",
    "        self.global_step = tf.Variable(1.0, dtype=tf.float32, trainable=False, name='global_step')\n",
    "        self.global_step_update = tf.assign_add(self.global_step, 1.0)\n",
    "        self.optimizer =  tf.train.AdamOptimizer(self.learn_rate_init).minimize(self.loss, var_list=self.net_var)\n",
    "        #self.optimizer = tf.train.MomentumOptimizer(learning_rate=self.learn_rate_init, momentum=0.8).minimize(self.loss)\n",
    "        with tf.control_dependencies(tf.get_collection(tf.GraphKeys.UPDATE_OPS)):\n",
    "            with tf.control_dependencies([self.optimizer, self.global_step_update]):\n",
    "                #with tf.control_dependencies([moving_ave]):\n",
    "                self.train_op = tf.no_op()\n",
    "        \n",
    "            #self.optimizer = tf.train.MomentumOptimizer(learning_rate=self.learn_rate_init, momentum=0.8).minimize(self.loss)\n",
    "        \n",
    "        self.loader_backbone = tf.train.Saver(self.varaibles_to_restore)\n",
    "        self.loader_whole = tf.train.Saver(tf.global_variables())\n",
    "        self.saver = tf.train.Saver(tf.global_variables(), max_to_keep=10)\n",
    "        \n",
    "        \n",
    "#         tensor_name_list = [tensor.name for tensor in tf.get_default_graph().as_graph_def().node]\n",
    "#         for tensor_name in tensor_name_list:\n",
    "#             print(tensor_name,'\\n')\n",
    "\n",
    "        \n",
    "\n",
    "    def train(self):\n",
    "        #self.sess.run(tf.global_variables_initializer())\n",
    "        if self.pretrain_mode == 'whole':\n",
    "            try:\n",
    "                print ('=>Restore weights from ' + self.initial_weights)\n",
    "                self.loader_whole.restore(self.sess, self.initial_weights)\n",
    "            except:\n",
    "                print (self.initial_weights + 'does not exist!')\n",
    "                print ('=>starts training from scratch ...')\n",
    "        else:\n",
    "            try:\n",
    "                print ('=>Restore weights from ' + self.pretrain_model)\n",
    "                self.loader_backbone.restore(self.sess, self.pretrain_model)\n",
    "            except:\n",
    "                print (self.pretrain_model + 'does not exist!')\n",
    "                print ('=>starts training from scratch ...')\n",
    "        \n",
    "        min_loss_val = 20\n",
    "        min_loss_train = 20\n",
    "        i = 0\n",
    "        for epoch in range(self.epoch):\n",
    "            pabr = tqdm(self.trainset)\n",
    "            train_epoch_loss, test_epoch_loss = [], []\n",
    "            #train_epoch_acc, test_epoch_acc = [], []\n",
    "            for train_data in pabr:\n",
    "                _, train_step_loss = self.sess.run([self.train_op, self.loss], feed_dict={self.input_data: train_data[0],\n",
    "                                                         self.input_labels: train_data[1],\n",
    "                                                         self.input_scale: train_data[2],\n",
    "                                                         self.trainable: True,\n",
    "                                                         })\n",
    "                \n",
    "                train_epoch_loss.append(train_step_loss)\n",
    "                #train_epoch_acc.append(train_step_acc)\n",
    "                pabr.set_description(\"train loss: %.2f\" %train_step_loss)\n",
    "            \n",
    "            for test_data in self.testset:\n",
    "                test_step_loss = self.sess.run([self.loss],\n",
    "                                                                feed_dict={self.input_data: test_data[0],\n",
    "                                                                           self.input_labels: test_data[1],\n",
    "                                                                           self.input_scale: test_data[2],\n",
    "                                                                           self.trainable: False, \n",
    "                                                                           })\n",
    "\n",
    "                test_epoch_loss.append(test_step_loss)\n",
    "                #test_epoch_acc.append(test_step_acc)\n",
    "\n",
    "            train_epoch_loss, test_epoch_loss = np.mean(train_epoch_loss), np.mean(test_epoch_loss)\n",
    "            print ('Epoch: %2d Train loss: %.2f'\n",
    "                   %(epoch, train_epoch_loss))\n",
    "\n",
    "            print ('Test loss: %.2f '\n",
    "                   % (test_epoch_loss))\n",
    "            \n",
    "            \n",
    "            if epoch >= 5 and test_epoch_loss < min_loss_val and train_epoch_loss < min_loss_train:\n",
    "                min_loss_val = test_epoch_loss\n",
    "                min_loss_train = train_epoch_loss\n",
    "                constant_graph = graph_util.convert_variables_to_constants(self.sess, self.sess.graph_def, ['fc_layer/op_to_store'])\n",
    "                model_name = self.model_type+'_epoch=%d' %epoch\n",
    "                ckpt_file = self.save_path_ckpt + model_name + '_test_loss=%.4f.ckpt' %test_epoch_loss\n",
    "                #self.saver.save(self.sess, ckpt_file, global_step=epoch)\n",
    "                with tf.gfile.FastGFile(self.save_path_pb + model_name+'.pb', mode='wb') as f:\n",
    "                    f.write(constant_graph.SerializeToString())\n",
    "#                 self.df.loc[i] = [randint(-1, 1) for _ in range(len(self.df.columns))]\n",
    "#                 self.df.iloc[i,0] = self.source\n",
    "#                 self.df.iloc[i,1] = str(self.quantity)\n",
    "#                 self.df.iloc[i,2] = model_name\n",
    "#                 self.df.iloc[i,3] = str(epoch)\n",
    "#                 self.df.iloc[i,4] = str(test_epoch_loss)\n",
    "#                 self.df.iloc[i,5] = str(test_epoch_acc)\n",
    "#                 i += 1\n",
    "                \n",
    "                \n",
    "#         self.df.to_excel(self.writer, 'Sheet1')\n",
    "#         self.writer.save()\n",
    "                \n",
    "\n",
    "    def main(self):\n",
    "        self.sess.run(tf.global_variables_initializer())\n",
    "        self.train()\n",
    "        \n",
    "if __name__ == '__main__':\n",
    "    Regression().main()\n",
    "\n",
    "\n",
    "\n"
   ]
  },
  {
   "cell_type": "code",
   "execution_count": null,
   "metadata": {},
   "outputs": [],
   "source": []
  }
 ],
 "metadata": {
  "kernelspec": {
   "display_name": "Python2",
   "language": "python",
   "name": "py2"
  },
  "language_info": {
   "codemirror_mode": {
    "name": "ipython",
    "version": 2
   },
   "file_extension": ".py",
   "mimetype": "text/x-python",
   "name": "python",
   "nbconvert_exporter": "python",
   "pygments_lexer": "ipython2",
   "version": "2.7.17"
  }
 },
 "nbformat": 4,
 "nbformat_minor": 2
}
