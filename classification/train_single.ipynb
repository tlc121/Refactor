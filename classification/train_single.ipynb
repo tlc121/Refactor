{
 "cells": [
  {
   "cell_type": "code",
   "execution_count": 1,
   "metadata": {
    "scrolled": true
   },
   "outputs": [
    {
     "name": "stdout",
     "output_type": "stream",
     "text": [
      "WARNING:tensorflow:From /opt/miniconda3/envs/py2/lib/python2.7/site-packages/tensorflow/python/framework/op_def_library.py:263: colocate_with (from tensorflow.python.framework.ops) is deprecated and will be removed in a future version.\n",
      "Instructions for updating:\n",
      "Colocations handled automatically by placer.\n",
      "WARNING:tensorflow:From ../core/common.py:50: batch_normalization (from tensorflow.python.layers.normalization) is deprecated and will be removed in a future version.\n",
      "Instructions for updating:\n",
      "Use keras.layers.batch_normalization instead.\n",
      "WARNING:tensorflow:From /opt/miniconda3/envs/py2/lib/python2.7/site-packages/tensorflow/python/ops/math_ops.py:3066: to_int32 (from tensorflow.python.ops.math_ops) is deprecated and will be removed in a future version.\n",
      "Instructions for updating:\n",
      "Use tf.cast instead.\n",
      "=>Restore weights from /ssd2/tlc/pretrain_model/res18/res18_epoch=16_test_loss=0.3583.ckpt-16\n",
      "WARNING:tensorflow:From /opt/miniconda3/envs/py2/lib/python2.7/site-packages/tensorflow/python/training/saver.py:1266: checkpoint_exists (from tensorflow.python.training.checkpoint_management) is deprecated and will be removed in a future version.\n",
      "Instructions for updating:\n",
      "Use standard file APIs to check for files with this prefix.\n",
      "INFO:tensorflow:Restoring parameters from /ssd2/tlc/pretrain_model/res18/res18_epoch=16_test_loss=0.3583.ckpt-16\n"
     ]
    },
    {
     "name": "stderr",
     "output_type": "stream",
     "text": [
      "train loss: 0.69: 100%|██████████| 871/871 [1:30:36<00:00,  6.24s/it]\n",
      "  0%|          | 0/871 [00:00<?, ?it/s]"
     ]
    },
    {
     "name": "stdout",
     "output_type": "stream",
     "text": [
      "Epoch:  0 Train loss: 1.19 Train acc: 0.76\n",
      "Test loss: 0.75 Test acc: 0.71\n"
     ]
    },
    {
     "name": "stderr",
     "output_type": "stream",
     "text": [
      "train loss: 0.58: 100%|██████████| 871/871 [1:12:48<00:00,  5.02s/it]\n",
      "  0%|          | 0/871 [00:00<?, ?it/s]"
     ]
    },
    {
     "name": "stdout",
     "output_type": "stream",
     "text": [
      "Epoch:  1 Train loss: 0.62 Train acc: 0.80\n",
      "Test loss: 0.55 Test acc: 0.79\n"
     ]
    },
    {
     "name": "stderr",
     "output_type": "stream",
     "text": [
      "train loss: 0.54: 100%|██████████| 871/871 [2:00:56<00:00,  8.33s/it]  \n",
      "  0%|          | 0/871 [00:00<?, ?it/s]"
     ]
    },
    {
     "name": "stdout",
     "output_type": "stream",
     "text": [
      "Epoch:  2 Train loss: 0.57 Train acc: 0.81\n",
      "Test loss: 0.65 Test acc: 0.77\n"
     ]
    },
    {
     "name": "stderr",
     "output_type": "stream",
     "text": [
      "train loss: 0.51: 100%|██████████| 871/871 [1:53:28<00:00,  7.82s/it]\n",
      "  0%|          | 0/871 [00:00<?, ?it/s]"
     ]
    },
    {
     "name": "stdout",
     "output_type": "stream",
     "text": [
      "Epoch:  3 Train loss: 0.54 Train acc: 0.81\n",
      "Test loss: 0.51 Test acc: 0.78\n"
     ]
    },
    {
     "name": "stderr",
     "output_type": "stream",
     "text": [
      "train loss: 0.50: 100%|██████████| 871/871 [1:01:01<00:00,  4.20s/it]\n",
      "  0%|          | 0/871 [00:00<?, ?it/s]"
     ]
    },
    {
     "name": "stdout",
     "output_type": "stream",
     "text": [
      "Epoch:  4 Train loss: 0.53 Train acc: 0.82\n",
      "Test loss: 0.48 Test acc: 0.81\n"
     ]
    },
    {
     "name": "stderr",
     "output_type": "stream",
     "text": [
      "train loss: 0.57: 100%|██████████| 871/871 [1:00:37<00:00,  4.18s/it]\n",
      "  0%|          | 0/871 [00:00<?, ?it/s]"
     ]
    },
    {
     "name": "stdout",
     "output_type": "stream",
     "text": [
      "Epoch:  5 Train loss: 0.52 Train acc: 0.82\n",
      "Test loss: 0.46 Test acc: 0.82\n"
     ]
    },
    {
     "name": "stderr",
     "output_type": "stream",
     "text": [
      "train loss: 0.54: 100%|██████████| 871/871 [45:17<00:00,  3.12s/it] \n",
      "  0%|          | 0/871 [00:00<?, ?it/s]"
     ]
    },
    {
     "name": "stdout",
     "output_type": "stream",
     "text": [
      "Epoch:  6 Train loss: 0.51 Train acc: 0.83\n",
      "Test loss: 0.45 Test acc: 0.82\n"
     ]
    },
    {
     "name": "stderr",
     "output_type": "stream",
     "text": [
      "train loss: 0.54: 100%|██████████| 871/871 [42:41<00:00,  2.94s/it]\n",
      "  0%|          | 0/871 [00:00<?, ?it/s]"
     ]
    },
    {
     "name": "stdout",
     "output_type": "stream",
     "text": [
      "Epoch:  7 Train loss: 0.50 Train acc: 0.83\n",
      "Test loss: 0.44 Test acc: 0.83\n"
     ]
    },
    {
     "name": "stderr",
     "output_type": "stream",
     "text": [
      "train loss: 0.55: 100%|██████████| 871/871 [42:10<00:00,  2.91s/it]\n",
      "  0%|          | 0/871 [00:00<?, ?it/s]"
     ]
    },
    {
     "name": "stdout",
     "output_type": "stream",
     "text": [
      "Epoch:  8 Train loss: 0.50 Train acc: 0.83\n",
      "Test loss: 0.44 Test acc: 0.83\n"
     ]
    },
    {
     "name": "stderr",
     "output_type": "stream",
     "text": [
      "train loss: 0.49: 100%|██████████| 871/871 [42:11<00:00,  2.91s/it]\n",
      "  0%|          | 0/871 [00:00<?, ?it/s]"
     ]
    },
    {
     "name": "stdout",
     "output_type": "stream",
     "text": [
      "Epoch:  9 Train loss: 0.49 Train acc: 0.84\n",
      "Test loss: 0.46 Test acc: 0.80\n"
     ]
    },
    {
     "name": "stderr",
     "output_type": "stream",
     "text": [
      "train loss: 0.48: 100%|██████████| 871/871 [42:42<00:00,  2.94s/it]\n"
     ]
    },
    {
     "name": "stdout",
     "output_type": "stream",
     "text": [
      "Epoch: 10 Train loss: 0.49 Train acc: 0.84\n",
      "Test loss: 0.41 Test acc: 0.85\n",
      "WARNING:tensorflow:From <ipython-input-1-568c2ab7d6ba>:146: convert_variables_to_constants (from tensorflow.python.framework.graph_util_impl) is deprecated and will be removed in a future version.\n",
      "Instructions for updating:\n",
      "Use tf.compat.v1.graph_util.convert_variables_to_constants\n",
      "WARNING:tensorflow:From /opt/miniconda3/envs/py2/lib/python2.7/site-packages/tensorflow/python/framework/graph_util_impl.py:245: extract_sub_graph (from tensorflow.python.framework.graph_util_impl) is deprecated and will be removed in a future version.\n",
      "Instructions for updating:\n",
      "Use tf.compat.v1.graph_util.extract_sub_graph\n",
      "INFO:tensorflow:Froze 89 variables.\n",
      "INFO:tensorflow:Converted 89 variables to const ops.\n",
      "WARNING:tensorflow:From <ipython-input-1-568c2ab7d6ba>:150: __init__ (from tensorflow.python.platform.gfile) is deprecated and will be removed in a future version.\n",
      "Instructions for updating:\n",
      "Use tf.gfile.GFile.\n"
     ]
    },
    {
     "name": "stderr",
     "output_type": "stream",
     "text": [
      "train loss: 0.45: 100%|██████████| 871/871 [43:09<00:00,  2.97s/it]\n",
      "  0%|          | 0/871 [00:00<?, ?it/s]"
     ]
    },
    {
     "name": "stdout",
     "output_type": "stream",
     "text": [
      "Epoch: 11 Train loss: 0.48 Train acc: 0.84\n",
      "Test loss: 1.24 Test acc: 0.70\n"
     ]
    },
    {
     "name": "stderr",
     "output_type": "stream",
     "text": [
      "train loss: 0.48: 100%|██████████| 871/871 [43:07<00:00,  2.97s/it]\n",
      "  0%|          | 0/871 [00:00<?, ?it/s]"
     ]
    },
    {
     "name": "stdout",
     "output_type": "stream",
     "text": [
      "Epoch: 12 Train loss: 0.48 Train acc: 0.85\n",
      "Test loss: 0.46 Test acc: 0.82\n"
     ]
    },
    {
     "name": "stderr",
     "output_type": "stream",
     "text": [
      "train loss: 0.44: 100%|██████████| 871/871 [42:57<00:00,  2.96s/it]\n",
      "  0%|          | 0/871 [00:00<?, ?it/s]"
     ]
    },
    {
     "name": "stdout",
     "output_type": "stream",
     "text": [
      "Epoch: 13 Train loss: 0.47 Train acc: 0.85\n",
      "Test loss: 1.49 Test acc: 0.68\n"
     ]
    },
    {
     "name": "stderr",
     "output_type": "stream",
     "text": [
      "train loss: 0.41: 100%|██████████| 871/871 [43:07<00:00,  2.97s/it]\n",
      "  0%|          | 0/871 [00:00<?, ?it/s]"
     ]
    },
    {
     "name": "stdout",
     "output_type": "stream",
     "text": [
      "Epoch: 14 Train loss: 0.47 Train acc: 0.85\n",
      "Test loss: 0.44 Test acc: 0.83\n"
     ]
    },
    {
     "name": "stderr",
     "output_type": "stream",
     "text": [
      "train loss: 0.43: 100%|██████████| 871/871 [44:43<00:00,  3.08s/it]\n",
      "  0%|          | 0/871 [00:00<?, ?it/s]"
     ]
    },
    {
     "name": "stdout",
     "output_type": "stream",
     "text": [
      "Epoch: 15 Train loss: 0.47 Train acc: 0.86\n",
      "Test loss: 0.56 Test acc: 0.78\n"
     ]
    },
    {
     "name": "stderr",
     "output_type": "stream",
     "text": [
      "train loss: 0.45: 100%|██████████| 871/871 [43:08<00:00,  2.97s/it]\n",
      "  0%|          | 0/871 [00:00<?, ?it/s]"
     ]
    },
    {
     "name": "stdout",
     "output_type": "stream",
     "text": [
      "Epoch: 16 Train loss: 0.46 Train acc: 0.86\n",
      "Test loss: 0.76 Test acc: 0.69\n"
     ]
    },
    {
     "name": "stderr",
     "output_type": "stream",
     "text": [
      "train loss: 0.46: 100%|██████████| 871/871 [41:06<00:00,  2.83s/it]\n",
      "  0%|          | 0/871 [00:00<?, ?it/s]"
     ]
    },
    {
     "name": "stdout",
     "output_type": "stream",
     "text": [
      "Epoch: 17 Train loss: 0.46 Train acc: 0.86\n",
      "Test loss: 1.40 Test acc: 0.69\n"
     ]
    },
    {
     "name": "stderr",
     "output_type": "stream",
     "text": [
      "train loss: 0.48: 100%|██████████| 871/871 [43:56<00:00,  3.03s/it]\n",
      "  0%|          | 0/871 [00:00<?, ?it/s]"
     ]
    },
    {
     "name": "stdout",
     "output_type": "stream",
     "text": [
      "Epoch: 18 Train loss: 0.46 Train acc: 0.86\n",
      "Test loss: 0.54 Test acc: 0.77\n"
     ]
    },
    {
     "name": "stderr",
     "output_type": "stream",
     "text": [
      "train loss: 0.47: 100%|██████████| 871/871 [43:10<00:00,  2.97s/it]\n"
     ]
    },
    {
     "name": "stdout",
     "output_type": "stream",
     "text": [
      "Epoch: 19 Train loss: 0.45 Train acc: 0.87\n",
      "Test loss: 0.37 Test acc: 0.86\n",
      "INFO:tensorflow:Froze 89 variables.\n",
      "INFO:tensorflow:Converted 89 variables to const ops.\n"
     ]
    },
    {
     "name": "stderr",
     "output_type": "stream",
     "text": [
      "train loss: 0.46: 100%|██████████| 871/871 [47:32<00:00,  3.27s/it]\n",
      "  0%|          | 0/871 [00:00<?, ?it/s]"
     ]
    },
    {
     "name": "stdout",
     "output_type": "stream",
     "text": [
      "Epoch: 20 Train loss: 0.45 Train acc: 0.87\n",
      "Test loss: 0.51 Test acc: 0.78\n"
     ]
    },
    {
     "name": "stderr",
     "output_type": "stream",
     "text": [
      "train loss: 0.40:   3%|▎         | 23/871 [01:44<1:04:45,  4.58s/it]ERROR:root:Internal Python error in the inspect module.\n",
      "Below is the traceback from this internal error.\n",
      "\n"
     ]
    },
    {
     "name": "stdout",
     "output_type": "stream",
     "text": [
      "Traceback (most recent call last):\n",
      "  File \"/opt/miniconda3/envs/py2/lib/python2.7/site-packages/IPython/core/ultratb.py\", line 1132, in get_records\n",
      "    return _fixed_getinnerframes(etb, number_of_lines_of_context, tb_offset)\n",
      "  File \"/opt/miniconda3/envs/py2/lib/python2.7/site-packages/IPython/core/ultratb.py\", line 313, in wrapped\n",
      "    return f(*args, **kwargs)\n",
      "  File \"/opt/miniconda3/envs/py2/lib/python2.7/site-packages/IPython/core/ultratb.py\", line 358, in _fixed_getinnerframes\n",
      "    records = fix_frame_records_filenames(inspect.getinnerframes(etb, context))\n",
      "  File \"/opt/miniconda3/envs/py2/lib/python2.7/inspect.py\", line 1058, in getinnerframes\n",
      "    framelist.append((tb.tb_frame,) + getframeinfo(tb, context))\n",
      "  File \"/opt/miniconda3/envs/py2/lib/python2.7/inspect.py\", line 1018, in getframeinfo\n",
      "    filename = getsourcefile(frame) or getfile(frame)\n",
      "  File \"/opt/miniconda3/envs/py2/lib/python2.7/inspect.py\", line 453, in getsourcefile\n",
      "    if hasattr(getmodule(object, filename), '__loader__'):\n",
      "  File \"/opt/miniconda3/envs/py2/lib/python2.7/inspect.py\", line 492, in getmodule\n",
      "    if f == _filesbymodname.get(modname, None):\n",
      "KeyboardInterrupt\n"
     ]
    },
    {
     "ename": "IndexError",
     "evalue": "string index out of range",
     "output_type": "error",
     "traceback": [
      "\u001b[0;31m\u001b[0m",
      "\u001b[0;31mIndexError\u001b[0mTraceback (most recent call last)",
      "\u001b[0;32m/opt/miniconda3/envs/py2/lib/python2.7/site-packages/IPython/core/interactiveshell.pyc\u001b[0m in \u001b[0;36mrun_code\u001b[0;34m(self, code_obj, result)\u001b[0m\n\u001b[1;32m   2893\u001b[0m             \u001b[0;32mif\u001b[0m \u001b[0mresult\u001b[0m \u001b[0;32mis\u001b[0m \u001b[0;32mnot\u001b[0m \u001b[0mNone\u001b[0m\u001b[0;34m:\u001b[0m\u001b[0;34m\u001b[0m\u001b[0m\n\u001b[1;32m   2894\u001b[0m                 \u001b[0mresult\u001b[0m\u001b[0;34m.\u001b[0m\u001b[0merror_in_exec\u001b[0m \u001b[0;34m=\u001b[0m \u001b[0msys\u001b[0m\u001b[0;34m.\u001b[0m\u001b[0mexc_info\u001b[0m\u001b[0;34m(\u001b[0m\u001b[0;34m)\u001b[0m\u001b[0;34m[\u001b[0m\u001b[0;36m1\u001b[0m\u001b[0;34m]\u001b[0m\u001b[0;34m\u001b[0m\u001b[0m\n\u001b[0;32m-> 2895\u001b[0;31m             \u001b[0mself\u001b[0m\u001b[0;34m.\u001b[0m\u001b[0mshowtraceback\u001b[0m\u001b[0;34m(\u001b[0m\u001b[0;34m)\u001b[0m\u001b[0;34m\u001b[0m\u001b[0m\n\u001b[0m\u001b[1;32m   2896\u001b[0m         \u001b[0;32melse\u001b[0m\u001b[0;34m:\u001b[0m\u001b[0;34m\u001b[0m\u001b[0m\n\u001b[1;32m   2897\u001b[0m             \u001b[0moutflag\u001b[0m \u001b[0;34m=\u001b[0m \u001b[0;36m0\u001b[0m\u001b[0;34m\u001b[0m\u001b[0m\n",
      "\u001b[0;32m/opt/miniconda3/envs/py2/lib/python2.7/site-packages/IPython/core/interactiveshell.pyc\u001b[0m in \u001b[0;36mshowtraceback\u001b[0;34m(self, exc_tuple, filename, tb_offset, exception_only)\u001b[0m\n\u001b[1;32m   1824\u001b[0m                     \u001b[0;32mexcept\u001b[0m \u001b[0mException\u001b[0m\u001b[0;34m:\u001b[0m\u001b[0;34m\u001b[0m\u001b[0m\n\u001b[1;32m   1825\u001b[0m                         stb = self.InteractiveTB.structured_traceback(etype,\n\u001b[0;32m-> 1826\u001b[0;31m                                             value, tb, tb_offset=tb_offset)\n\u001b[0m\u001b[1;32m   1827\u001b[0m \u001b[0;34m\u001b[0m\u001b[0m\n\u001b[1;32m   1828\u001b[0m                     \u001b[0mself\u001b[0m\u001b[0;34m.\u001b[0m\u001b[0m_showtraceback\u001b[0m\u001b[0;34m(\u001b[0m\u001b[0metype\u001b[0m\u001b[0;34m,\u001b[0m \u001b[0mvalue\u001b[0m\u001b[0;34m,\u001b[0m \u001b[0mstb\u001b[0m\u001b[0;34m)\u001b[0m\u001b[0;34m\u001b[0m\u001b[0m\n",
      "\u001b[0;32m/opt/miniconda3/envs/py2/lib/python2.7/site-packages/IPython/core/ultratb.pyc\u001b[0m in \u001b[0;36mstructured_traceback\u001b[0;34m(self, etype, value, tb, tb_offset, number_of_lines_of_context)\u001b[0m\n\u001b[1;32m   1409\u001b[0m         \u001b[0mself\u001b[0m\u001b[0;34m.\u001b[0m\u001b[0mtb\u001b[0m \u001b[0;34m=\u001b[0m \u001b[0mtb\u001b[0m\u001b[0;34m\u001b[0m\u001b[0m\n\u001b[1;32m   1410\u001b[0m         return FormattedTB.structured_traceback(\n\u001b[0;32m-> 1411\u001b[0;31m             self, etype, value, tb, tb_offset, number_of_lines_of_context)\n\u001b[0m\u001b[1;32m   1412\u001b[0m \u001b[0;34m\u001b[0m\u001b[0m\n\u001b[1;32m   1413\u001b[0m \u001b[0;34m\u001b[0m\u001b[0m\n",
      "\u001b[0;32m/opt/miniconda3/envs/py2/lib/python2.7/site-packages/IPython/core/ultratb.pyc\u001b[0m in \u001b[0;36mstructured_traceback\u001b[0;34m(self, etype, value, tb, tb_offset, number_of_lines_of_context)\u001b[0m\n\u001b[1;32m   1317\u001b[0m             \u001b[0;31m# Verbose modes need a full traceback\u001b[0m\u001b[0;34m\u001b[0m\u001b[0;34m\u001b[0m\u001b[0m\n\u001b[1;32m   1318\u001b[0m             return VerboseTB.structured_traceback(\n\u001b[0;32m-> 1319\u001b[0;31m                 \u001b[0mself\u001b[0m\u001b[0;34m,\u001b[0m \u001b[0metype\u001b[0m\u001b[0;34m,\u001b[0m \u001b[0mvalue\u001b[0m\u001b[0;34m,\u001b[0m \u001b[0mtb\u001b[0m\u001b[0;34m,\u001b[0m \u001b[0mtb_offset\u001b[0m\u001b[0;34m,\u001b[0m \u001b[0mnumber_of_lines_of_context\u001b[0m\u001b[0;34m\u001b[0m\u001b[0m\n\u001b[0m\u001b[1;32m   1320\u001b[0m             )\n\u001b[1;32m   1321\u001b[0m         \u001b[0;32melse\u001b[0m\u001b[0;34m:\u001b[0m\u001b[0;34m\u001b[0m\u001b[0m\n",
      "\u001b[0;32m/opt/miniconda3/envs/py2/lib/python2.7/site-packages/IPython/core/ultratb.pyc\u001b[0m in \u001b[0;36mstructured_traceback\u001b[0;34m(self, etype, evalue, etb, tb_offset, number_of_lines_of_context)\u001b[0m\n\u001b[1;32m   1202\u001b[0m                 \u001b[0mstructured_traceback_parts\u001b[0m \u001b[0;34m+=\u001b[0m \u001b[0mformatted_exception\u001b[0m\u001b[0;34m\u001b[0m\u001b[0m\n\u001b[1;32m   1203\u001b[0m         \u001b[0;32melse\u001b[0m\u001b[0;34m:\u001b[0m\u001b[0;34m\u001b[0m\u001b[0m\n\u001b[0;32m-> 1204\u001b[0;31m             \u001b[0mstructured_traceback_parts\u001b[0m \u001b[0;34m+=\u001b[0m \u001b[0mformatted_exception\u001b[0m\u001b[0;34m[\u001b[0m\u001b[0;36m0\u001b[0m\u001b[0;34m]\u001b[0m\u001b[0;34m\u001b[0m\u001b[0m\n\u001b[0m\u001b[1;32m   1205\u001b[0m \u001b[0;34m\u001b[0m\u001b[0m\n\u001b[1;32m   1206\u001b[0m         \u001b[0;32mreturn\u001b[0m \u001b[0mstructured_traceback_parts\u001b[0m\u001b[0;34m\u001b[0m\u001b[0m\n",
      "\u001b[0;31mIndexError\u001b[0m: string index out of range"
     ]
    }
   ],
   "source": [
    "import tensorflow as tf\n",
    "import numpy as np\n",
    "import os\n",
    "from tqdm import tqdm\n",
    "os.environ['CUDA_VISIBLE_DEVICES'] = '6'\n",
    "from config_cls import cfg\n",
    "from dataset_gray import Dataset\n",
    "from factory_cls import backbone\n",
    "from random import randint\n",
    "from tensorflow.python.framework import graph_util\n",
    "import pandas as pd\n",
    "\n",
    "class Classitrain(object):\n",
    "    def __init__(self):\n",
    "        self.Batch_Size = cfg.TRAIN.BATCHSIZE\n",
    "        self.learn_rate_init = cfg.TRAIN.LEARN_RATE_INIT\n",
    "        self.num_classes = cfg.TRAIN.NUMCLASS\n",
    "        self.trainset = Dataset(self.num_classes,'train')\n",
    "        self.testset = Dataset(self.num_classes,'test')\n",
    "        self.network = cfg.TRAIN.NETWORK\n",
    "        self.train_txt = cfg.TRAIN.ANNO_PATH\n",
    "        self.sess = tf.Session()\n",
    "        self.model_type = cfg.TRAIN.NETWORK\n",
    "        self.input_size = cfg.TRAIN.INPUTSIZE\n",
    "        self.interval = cfg.TRAIN.SAVE\n",
    "        self.initial_weights = cfg.TRAIN.INITIAL_WEIGHT\n",
    "        self.pretrain_mode = cfg.TRAIN.PRETRAIN_MODE\n",
    "        self.epoch = cfg.TRAIN.EPOCH\n",
    "        self.pretrain_model = cfg.TRAIN.BACKBONE_PRETRAIN\n",
    "        self.moving_ave_decay = cfg.TRAIN.MOMENTUM\n",
    "        self.steps_per_period  = len(self.trainset)\n",
    "        self.learn_rate_end = cfg.TRAIN.LEARN_RATE_END\n",
    "        self.quantity = len(open(self.train_txt, 'r').readlines())\n",
    "        self.keep_prob = tf.placeholder(dtype=tf.float32, name='dropout')\n",
    "        self.moving_ave_decay = 0.995\n",
    "        self.warmup_periods = 1\n",
    "        \n",
    "       \n",
    "        self.input_data = tf.placeholder(shape = [None, self.input_size, self.input_size, 3], dtype=tf.float32, name='input')\n",
    "        self.input_labels = tf.placeholder(dtype=tf.float32, name='label')\n",
    "        self.trainable = tf.placeholder(dtype=tf.bool, name='trainable')\n",
    "        \n",
    "        self.model = backbone(model=self.network, input_data=self.input_data, trainable=self.trainable, classes=self.num_classes, keep_prob=self.keep_prob)\n",
    "        self.loss_cls, self.accurate = self.model.compute_loss(labels=self.input_labels)\n",
    "        tf.add_to_collection(tf.GraphKeys.REGULARIZATION_LOSSES, self.loss_cls)\n",
    "        self.keys = tf.get_collection(tf.GraphKeys.REGULARIZATION_LOSSES)\n",
    "        self.loss = tf.add_n(self.keys)\n",
    "        #self.loss = self.loss_cls\n",
    "        self.cam = self.model.cam()\n",
    "        self.net_var = tf.global_variables()\n",
    "        self.varaibles_to_restore = [var for var in self.net_var if 'backbone' in var.name]\n",
    "        \n",
    "            \n",
    "        #moving_ave = tf.train.ExponentialMovingAverage(self.moving_ave_decay).apply(tf.trainable_variables())\n",
    "        with tf.name_scope('learn_rate'):\n",
    "            self.global_step = tf.Variable(1.0, dtype=tf.float64, trainable=False, name='global_step')\n",
    "            warmup_steps = tf.constant(self.warmup_periods * self.steps_per_period,\n",
    "                                        dtype=tf.float64, name='warmup_steps')\n",
    "            train_steps = tf.constant( self.epoch * self.steps_per_period,\n",
    "                                        dtype=tf.float64, name='train_steps')\n",
    "            self.learn_rate = tf.cond(\n",
    "                pred=self.global_step < warmup_steps,\n",
    "                true_fn=lambda: self.global_step / warmup_steps * self.learn_rate_init,\n",
    "                false_fn=lambda: self.learn_rate_end + 0.5 * (self.learn_rate_init - self.learn_rate_end) *\n",
    "                                    (1 + tf.cos(\n",
    "                                        (self.global_step - warmup_steps) / (train_steps - warmup_steps) * np.pi))\n",
    "            )\n",
    "            global_step_update = tf.assign_add(self.global_step, 1.0)\n",
    "            \n",
    "        #moving_ave = tf.train.ExponentialMovingAverage(self.moving_ave_decay).apply(tf.trainable_variables())\n",
    "        self.optimizer =  tf.train.AdamOptimizer(self.learn_rate).minimize(self.loss, var_list=self.net_var)\n",
    "        #self.optimizer = tf.train.Momen\n",
    "        with tf.control_dependencies(tf.get_collection(tf.GraphKeys.UPDATE_OPS)):\n",
    "            with tf.control_dependencies([self.optimizer, global_step_update]):\n",
    "   #             with tf.control_dependencies([moving_ave]):\n",
    "                self.train_op = tf.no_op()\n",
    "        \n",
    "            #self.optimizer = tf.train.MomentumOptimizer(learning_rate=self.learn_rate_init, momentum=0.8).minimize(self.loss)\n",
    "        \n",
    "        self.loader_backbone = tf.train.Saver(self.varaibles_to_restore)\n",
    "        self.loader_whole = tf.train.Saver(tf.global_variables())\n",
    "        self.saver = tf.train.Saver(tf.global_variables(), max_to_keep=10)\n",
    "        \n",
    "    def compute_keep_prob(self, now_step=0,start_value=1.0, stop_value=0.75, nr_steps=100000, trainable=False):\n",
    "        prob_values = np.linspace(start=start_value, stop=stop_value, num=nr_steps)\n",
    "        keep_prob = prob_values[now_step]\n",
    "        return keep_prob\n",
    "\n",
    "    def train(self):\n",
    "        #self.sess.run(tf.global_variables_initializer())\n",
    "        if self.pretrain_mode == 'whole':\n",
    "            try:\n",
    "                print ('=>Restore weights from ' + self.initial_weights)\n",
    "                self.loader_whole.restore(self.sess, self.initial_weights)\n",
    "            except:\n",
    "                print (self.initial_weights + 'does not exist!')\n",
    "                print ('=>starts training from scratch ...')\n",
    "        else:\n",
    "            try:\n",
    "                print ('=>Restore weights from ' + self.pretrain_model)\n",
    "                self.loader_backbone.restore(self.sess, self.pretrain_model)\n",
    "            except Exception as e:\n",
    "                print (e)\n",
    "                print (self.pretrain_model + 'does not exist!')\n",
    "                print ('=>starts training from scratch ...')\n",
    "        \n",
    "        min_loss_val = 0.8\n",
    "        min_loss_train = 0.8\n",
    "        i = 0\n",
    "        for epoch in range(self.epoch):\n",
    "            pabr = tqdm(self.trainset)\n",
    "            train_epoch_loss, test_epoch_loss = [], []\n",
    "            train_epoch_acc, test_epoch_acc = [], []\n",
    "            for train_data in pabr:\n",
    "                keep_prob = self.compute_keep_prob(now_step=epoch, nr_steps = self.epoch, trainable=True)\n",
    "                _, train_step_loss, train_step_acc, _ = self.sess.run([self.train_op, self.loss, self.accurate, self.global_step], feed_dict={self.input_data: train_data[0],\n",
    "                                                         self.input_labels: train_data[1],\n",
    "                                                         self.trainable: True,\n",
    "                                                         self.keep_prob: 1.0})\n",
    "                \n",
    "                train_epoch_loss.append(train_step_loss)\n",
    "                train_epoch_acc.append(train_step_acc)\n",
    "                pabr.set_description(\"train loss: %.2f\" %train_step_loss)\n",
    "            \n",
    "            for test_data in self.testset:\n",
    "                test_step_loss, test_step_acc = self.sess.run([self.loss, self.accurate],\n",
    "                                                                feed_dict={self.input_data: test_data[0],\n",
    "                                                                           self.input_labels: test_data[1],\n",
    "                                                                           self.trainable: False, \n",
    "                                                                           self.keep_prob:1.0})\n",
    "\n",
    "                test_epoch_loss.append(test_step_loss)\n",
    "                test_epoch_acc.append(test_step_acc)\n",
    "\n",
    "            train_epoch_loss, train_epoch_acc, test_epoch_loss, test_epoch_acc = np.mean(train_epoch_loss), np.mean(train_epoch_acc), np.mean(test_epoch_loss), np.mean(test_epoch_acc)\n",
    "            print ('Epoch: %2d Train loss: %.2f Train acc: %.2f'\n",
    "                   %(epoch, train_epoch_loss, train_epoch_acc))\n",
    "\n",
    "            print ('Test loss: %.2f Test acc: %.2f'\n",
    "                   % (test_epoch_loss, test_epoch_acc))\n",
    "            \n",
    "            \n",
    "            if epoch >= 10 and test_epoch_loss < min_loss_val and train_epoch_loss < min_loss_train:\n",
    "                min_loss_val = test_epoch_loss\n",
    "                min_loss_train = train_epoch_loss\n",
    "                constant_graph = graph_util.convert_variables_to_constants(self.sess, self.sess.graph_def, ['fc_layer/op_to_store', 'cam'])\n",
    "                model_name = self.model_type+'_epoch=%d' %epoch\n",
    "                ckpt_file = '/hdd/sd5/tlc/TCT/Model_ckpt/'+ model_name + '_test_loss=%.4f.ckpt' %test_epoch_loss\n",
    "                #self.saver.save(self.sess, ckpt_file, global_step=epoch)\n",
    "                with tf.gfile.FastGFile('/hdd/sd5/tlc/TCT/Model_pb/comb/'+model_name+'_1channel.pb', mode='wb') as f:\n",
    "                    f.write(constant_graph.SerializeToString())\n",
    "\n",
    "\n",
    "                \n",
    "\n",
    "    def main(self):\n",
    "        self.sess.run(tf.global_variables_initializer())\n",
    "        self.train()\n",
    "        \n",
    "if __name__ == '__main__':\n",
    "    Classitrain().main() \n",
    "\n",
    "\n",
    "\n"
   ]
  },
  {
   "cell_type": "code",
   "execution_count": null,
   "metadata": {},
   "outputs": [],
   "source": []
  }
 ],
 "metadata": {
  "kernelspec": {
   "display_name": "Python2",
   "language": "python",
   "name": "py2"
  },
  "language_info": {
   "codemirror_mode": {
    "name": "ipython",
    "version": 2
   },
   "file_extension": ".py",
   "mimetype": "text/x-python",
   "name": "python",
   "nbconvert_exporter": "python",
   "pygments_lexer": "ipython2",
   "version": "2.7.17"
  }
 },
 "nbformat": 4,
 "nbformat_minor": 2
}
